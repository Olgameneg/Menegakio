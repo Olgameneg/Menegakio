{
 "cells": [
  {
   "cell_type": "raw",
   "id": "ead9d841-245d-4070-ba9e-b904ff86f48e",
   "metadata": {},
   "source": [
    "1. IMPORT LIBRARIES"
   ]
  },
  {
   "cell_type": "code",
   "execution_count": 1,
   "id": "aae76165-e3a7-4134-abe1-f21f75438efd",
   "metadata": {
    "tags": []
   },
   "outputs": [],
   "source": [
    "import pandas as pd #data processing \n",
    "import numpy as np #numerical computing \n",
    "from numpy import array\n",
    "import re #string manipulation \n",
    "\n"
   ]
  },
  {
   "cell_type": "code",
   "execution_count": 2,
   "id": "146f7f6c-60b1-428f-b92c-4b08ac4fd35f",
   "metadata": {
    "tags": []
   },
   "outputs": [
    {
     "name": "stdout",
     "output_type": "stream",
     "text": [
      "Requirement already satisfied: nltk in c:\\users\\1\\uoa_py_course\\course_venv\\lib\\site-packages (3.8.1)\n",
      "Requirement already satisfied: regex>=2021.8.3 in c:\\users\\1\\uoa_py_course\\course_venv\\lib\\site-packages (from nltk) (2023.12.25)\n",
      "Requirement already satisfied: joblib in c:\\users\\1\\uoa_py_course\\course_venv\\lib\\site-packages (from nltk) (1.2.0)\n",
      "Requirement already satisfied: tqdm in c:\\users\\1\\uoa_py_course\\course_venv\\lib\\site-packages (from nltk) (4.66.2)\n",
      "Requirement already satisfied: click in c:\\users\\1\\uoa_py_course\\course_venv\\lib\\site-packages (from nltk) (8.1.7)\n",
      "Requirement already satisfied: colorama in c:\\users\\1\\uoa_py_course\\course_venv\\lib\\site-packages (from click->nltk) (0.4.6)\n"
     ]
    },
    {
     "name": "stderr",
     "output_type": "stream",
     "text": [
      "\n",
      "[notice] A new release of pip is available: 23.0.1 -> 24.0\n",
      "[notice] To update, run: python.exe -m pip install --upgrade pip\n"
     ]
    }
   ],
   "source": [
    "!pip install nltk\n"
   ]
  },
  {
   "cell_type": "code",
   "execution_count": 3,
   "id": "1abb7b6d-07f7-43e8-931a-85b9a91a07f3",
   "metadata": {
    "tags": []
   },
   "outputs": [],
   "source": [
    "import nltk #NlP \n",
    "from nltk.corpus import stopwords # a list of common stopwords\n",
    "from nltk.tokenize import word_tokenize\n",
    "from nltk.stem import WordNetLemmatizer"
   ]
  },
  {
   "cell_type": "code",
   "execution_count": 4,
   "id": "e7f8e282-f0c7-4111-a510-58bdcd5e28e8",
   "metadata": {
    "tags": []
   },
   "outputs": [],
   "source": [
    "import string"
   ]
  },
  {
   "cell_type": "code",
   "execution_count": 5,
   "id": "c095dec2-4d73-4952-9d29-7425d9e54bc5",
   "metadata": {
    "tags": []
   },
   "outputs": [
    {
     "name": "stdout",
     "output_type": "stream",
     "text": [
      "Requirement already satisfied: textblob in c:\\users\\1\\uoa_py_course\\course_venv\\lib\\site-packages (0.18.0.post0)\n",
      "Requirement already satisfied: nltk>=3.8 in c:\\users\\1\\uoa_py_course\\course_venv\\lib\\site-packages (from textblob) (3.8.1)\n",
      "Requirement already satisfied: regex>=2021.8.3 in c:\\users\\1\\uoa_py_course\\course_venv\\lib\\site-packages (from nltk>=3.8->textblob) (2023.12.25)\n",
      "Requirement already satisfied: click in c:\\users\\1\\uoa_py_course\\course_venv\\lib\\site-packages (from nltk>=3.8->textblob) (8.1.7)\n",
      "Requirement already satisfied: tqdm in c:\\users\\1\\uoa_py_course\\course_venv\\lib\\site-packages (from nltk>=3.8->textblob) (4.66.2)\n",
      "Requirement already satisfied: joblib in c:\\users\\1\\uoa_py_course\\course_venv\\lib\\site-packages (from nltk>=3.8->textblob) (1.2.0)\n",
      "Requirement already satisfied: colorama in c:\\users\\1\\uoa_py_course\\course_venv\\lib\\site-packages (from click->nltk>=3.8->textblob) (0.4.6)\n"
     ]
    },
    {
     "name": "stderr",
     "output_type": "stream",
     "text": [
      "\n",
      "[notice] A new release of pip is available: 23.0.1 -> 24.0\n",
      "[notice] To update, run: python.exe -m pip install --upgrade pip\n"
     ]
    }
   ],
   "source": [
    "!pip install textblob"
   ]
  },
  {
   "cell_type": "code",
   "execution_count": 6,
   "id": "5d359399-2d89-4140-a1c4-0def9a73b12c",
   "metadata": {
    "tags": []
   },
   "outputs": [
    {
     "name": "stdout",
     "output_type": "stream",
     "text": [
      "Requirement already satisfied: tensorflow in c:\\users\\1\\uoa_py_course\\course_venv\\lib\\site-packages (2.15.0)\n",
      "Requirement already satisfied: tensorflow-intel==2.15.0 in c:\\users\\1\\uoa_py_course\\course_venv\\lib\\site-packages (from tensorflow) (2.15.0)\n",
      "Requirement already satisfied: typing-extensions>=3.6.6 in c:\\users\\1\\uoa_py_course\\course_venv\\lib\\site-packages (from tensorflow-intel==2.15.0->tensorflow) (4.9.0)\n",
      "Requirement already satisfied: absl-py>=1.0.0 in c:\\users\\1\\uoa_py_course\\course_venv\\lib\\site-packages (from tensorflow-intel==2.15.0->tensorflow) (2.1.0)\n",
      "Requirement already satisfied: ml-dtypes~=0.2.0 in c:\\users\\1\\uoa_py_course\\course_venv\\lib\\site-packages (from tensorflow-intel==2.15.0->tensorflow) (0.2.0)\n",
      "Requirement already satisfied: opt-einsum>=2.3.2 in c:\\users\\1\\uoa_py_course\\course_venv\\lib\\site-packages (from tensorflow-intel==2.15.0->tensorflow) (3.3.0)\n",
      "Requirement already satisfied: setuptools in c:\\users\\1\\uoa_py_course\\course_venv\\lib\\site-packages (from tensorflow-intel==2.15.0->tensorflow) (67.6.1)\n",
      "Requirement already satisfied: wrapt<1.15,>=1.11.0 in c:\\users\\1\\uoa_py_course\\course_venv\\lib\\site-packages (from tensorflow-intel==2.15.0->tensorflow) (1.14.1)\n",
      "Requirement already satisfied: six>=1.12.0 in c:\\users\\1\\uoa_py_course\\course_venv\\lib\\site-packages (from tensorflow-intel==2.15.0->tensorflow) (1.16.0)\n",
      "Requirement already satisfied: packaging in c:\\users\\1\\uoa_py_course\\course_venv\\lib\\site-packages (from tensorflow-intel==2.15.0->tensorflow) (23.0)\n",
      "Requirement already satisfied: grpcio<2.0,>=1.24.3 in c:\\users\\1\\uoa_py_course\\course_venv\\lib\\site-packages (from tensorflow-intel==2.15.0->tensorflow) (1.60.1)\n",
      "Requirement already satisfied: libclang>=13.0.0 in c:\\users\\1\\uoa_py_course\\course_venv\\lib\\site-packages (from tensorflow-intel==2.15.0->tensorflow) (16.0.6)\n",
      "Requirement already satisfied: tensorflow-estimator<2.16,>=2.15.0 in c:\\users\\1\\uoa_py_course\\course_venv\\lib\\site-packages (from tensorflow-intel==2.15.0->tensorflow) (2.15.0)\n",
      "Requirement already satisfied: protobuf!=4.21.0,!=4.21.1,!=4.21.2,!=4.21.3,!=4.21.4,!=4.21.5,<5.0.0dev,>=3.20.3 in c:\\users\\1\\uoa_py_course\\course_venv\\lib\\site-packages (from tensorflow-intel==2.15.0->tensorflow) (4.25.2)\n",
      "Requirement already satisfied: google-pasta>=0.1.1 in c:\\users\\1\\uoa_py_course\\course_venv\\lib\\site-packages (from tensorflow-intel==2.15.0->tensorflow) (0.2.0)\n",
      "Requirement already satisfied: gast!=0.5.0,!=0.5.1,!=0.5.2,>=0.2.1 in c:\\users\\1\\uoa_py_course\\course_venv\\lib\\site-packages (from tensorflow-intel==2.15.0->tensorflow) (0.5.4)\n",
      "Requirement already satisfied: astunparse>=1.6.0 in c:\\users\\1\\uoa_py_course\\course_venv\\lib\\site-packages (from tensorflow-intel==2.15.0->tensorflow) (1.6.3)\n",
      "Requirement already satisfied: h5py>=2.9.0 in c:\\users\\1\\uoa_py_course\\course_venv\\lib\\site-packages (from tensorflow-intel==2.15.0->tensorflow) (3.10.0)\n",
      "Requirement already satisfied: flatbuffers>=23.5.26 in c:\\users\\1\\uoa_py_course\\course_venv\\lib\\site-packages (from tensorflow-intel==2.15.0->tensorflow) (23.5.26)\n",
      "Requirement already satisfied: numpy<2.0.0,>=1.23.5 in c:\\users\\1\\uoa_py_course\\course_venv\\lib\\site-packages (from tensorflow-intel==2.15.0->tensorflow) (1.24.2)\n",
      "Requirement already satisfied: tensorboard<2.16,>=2.15 in c:\\users\\1\\uoa_py_course\\course_venv\\lib\\site-packages (from tensorflow-intel==2.15.0->tensorflow) (2.15.2)\n",
      "Requirement already satisfied: termcolor>=1.1.0 in c:\\users\\1\\uoa_py_course\\course_venv\\lib\\site-packages (from tensorflow-intel==2.15.0->tensorflow) (2.4.0)\n",
      "Requirement already satisfied: keras<2.16,>=2.15.0 in c:\\users\\1\\uoa_py_course\\course_venv\\lib\\site-packages (from tensorflow-intel==2.15.0->tensorflow) (2.15.0)\n",
      "Requirement already satisfied: tensorflow-io-gcs-filesystem>=0.23.1 in c:\\users\\1\\uoa_py_course\\course_venv\\lib\\site-packages (from tensorflow-intel==2.15.0->tensorflow) (0.31.0)\n",
      "Requirement already satisfied: wheel<1.0,>=0.23.0 in c:\\users\\1\\uoa_py_course\\course_venv\\lib\\site-packages (from astunparse>=1.6.0->tensorflow-intel==2.15.0->tensorflow) (0.40.0)\n",
      "Requirement already satisfied: markdown>=2.6.8 in c:\\users\\1\\uoa_py_course\\course_venv\\lib\\site-packages (from tensorboard<2.16,>=2.15->tensorflow-intel==2.15.0->tensorflow) (3.5.2)\n",
      "Requirement already satisfied: werkzeug>=1.0.1 in c:\\users\\1\\uoa_py_course\\course_venv\\lib\\site-packages (from tensorboard<2.16,>=2.15->tensorflow-intel==2.15.0->tensorflow) (3.0.1)\n",
      "Requirement already satisfied: google-auth-oauthlib<2,>=0.5 in c:\\users\\1\\uoa_py_course\\course_venv\\lib\\site-packages (from tensorboard<2.16,>=2.15->tensorflow-intel==2.15.0->tensorflow) (1.2.0)\n",
      "Requirement already satisfied: tensorboard-data-server<0.8.0,>=0.7.0 in c:\\users\\1\\uoa_py_course\\course_venv\\lib\\site-packages (from tensorboard<2.16,>=2.15->tensorflow-intel==2.15.0->tensorflow) (0.7.2)\n",
      "Requirement already satisfied: google-auth<3,>=1.6.3 in c:\\users\\1\\uoa_py_course\\course_venv\\lib\\site-packages (from tensorboard<2.16,>=2.15->tensorflow-intel==2.15.0->tensorflow) (2.27.0)\n",
      "Requirement already satisfied: requests<3,>=2.21.0 in c:\\users\\1\\uoa_py_course\\course_venv\\lib\\site-packages (from tensorboard<2.16,>=2.15->tensorflow-intel==2.15.0->tensorflow) (2.28.2)\n",
      "Requirement already satisfied: pyasn1-modules>=0.2.1 in c:\\users\\1\\uoa_py_course\\course_venv\\lib\\site-packages (from google-auth<3,>=1.6.3->tensorboard<2.16,>=2.15->tensorflow-intel==2.15.0->tensorflow) (0.3.0)\n",
      "Requirement already satisfied: cachetools<6.0,>=2.0.0 in c:\\users\\1\\uoa_py_course\\course_venv\\lib\\site-packages (from google-auth<3,>=1.6.3->tensorboard<2.16,>=2.15->tensorflow-intel==2.15.0->tensorflow) (5.3.2)\n",
      "Requirement already satisfied: rsa<5,>=3.1.4 in c:\\users\\1\\uoa_py_course\\course_venv\\lib\\site-packages (from google-auth<3,>=1.6.3->tensorboard<2.16,>=2.15->tensorflow-intel==2.15.0->tensorflow) (4.9)\n",
      "Requirement already satisfied: requests-oauthlib>=0.7.0 in c:\\users\\1\\uoa_py_course\\course_venv\\lib\\site-packages (from google-auth-oauthlib<2,>=0.5->tensorboard<2.16,>=2.15->tensorflow-intel==2.15.0->tensorflow) (1.3.1)\n",
      "Requirement already satisfied: idna<4,>=2.5 in c:\\users\\1\\uoa_py_course\\course_venv\\lib\\site-packages (from requests<3,>=2.21.0->tensorboard<2.16,>=2.15->tensorflow-intel==2.15.0->tensorflow) (3.4)\n",
      "Requirement already satisfied: urllib3<1.27,>=1.21.1 in c:\\users\\1\\uoa_py_course\\course_venv\\lib\\site-packages (from requests<3,>=2.21.0->tensorboard<2.16,>=2.15->tensorflow-intel==2.15.0->tensorflow) (1.26.15)\n",
      "Requirement already satisfied: certifi>=2017.4.17 in c:\\users\\1\\uoa_py_course\\course_venv\\lib\\site-packages (from requests<3,>=2.21.0->tensorboard<2.16,>=2.15->tensorflow-intel==2.15.0->tensorflow) (2022.12.7)\n",
      "Requirement already satisfied: charset-normalizer<4,>=2 in c:\\users\\1\\uoa_py_course\\course_venv\\lib\\site-packages (from requests<3,>=2.21.0->tensorboard<2.16,>=2.15->tensorflow-intel==2.15.0->tensorflow) (3.1.0)\n",
      "Requirement already satisfied: MarkupSafe>=2.1.1 in c:\\users\\1\\uoa_py_course\\course_venv\\lib\\site-packages (from werkzeug>=1.0.1->tensorboard<2.16,>=2.15->tensorflow-intel==2.15.0->tensorflow) (2.1.2)\n",
      "Requirement already satisfied: pyasn1<0.6.0,>=0.4.6 in c:\\users\\1\\uoa_py_course\\course_venv\\lib\\site-packages (from pyasn1-modules>=0.2.1->google-auth<3,>=1.6.3->tensorboard<2.16,>=2.15->tensorflow-intel==2.15.0->tensorflow) (0.5.1)\n",
      "Requirement already satisfied: oauthlib>=3.0.0 in c:\\users\\1\\uoa_py_course\\course_venv\\lib\\site-packages (from requests-oauthlib>=0.7.0->google-auth-oauthlib<2,>=0.5->tensorboard<2.16,>=2.15->tensorflow-intel==2.15.0->tensorflow) (3.2.2)\n"
     ]
    },
    {
     "name": "stderr",
     "output_type": "stream",
     "text": [
      "\n",
      "[notice] A new release of pip is available: 23.0.1 -> 24.0\n",
      "[notice] To update, run: python.exe -m pip install --upgrade pip\n"
     ]
    }
   ],
   "source": [
    "!pip install tensorflow"
   ]
  },
  {
   "cell_type": "code",
   "execution_count": 7,
   "id": "bc91c463-06f3-4a80-8e63-e9f82e885186",
   "metadata": {
    "tags": []
   },
   "outputs": [
    {
     "name": "stdout",
     "output_type": "stream",
     "text": [
      "Requirement already satisfied: tensorflow in c:\\users\\1\\uoa_py_course\\course_venv\\lib\\site-packages (2.15.0)\n",
      "Requirement already satisfied: keras in c:\\users\\1\\uoa_py_course\\course_venv\\lib\\site-packages (2.15.0)\n",
      "Requirement already satisfied: tensorflow-intel==2.15.0 in c:\\users\\1\\uoa_py_course\\course_venv\\lib\\site-packages (from tensorflow) (2.15.0)\n",
      "Requirement already satisfied: grpcio<2.0,>=1.24.3 in c:\\users\\1\\uoa_py_course\\course_venv\\lib\\site-packages (from tensorflow-intel==2.15.0->tensorflow) (1.60.1)\n",
      "Requirement already satisfied: tensorflow-estimator<2.16,>=2.15.0 in c:\\users\\1\\uoa_py_course\\course_venv\\lib\\site-packages (from tensorflow-intel==2.15.0->tensorflow) (2.15.0)\n",
      "Requirement already satisfied: tensorboard<2.16,>=2.15 in c:\\users\\1\\uoa_py_course\\course_venv\\lib\\site-packages (from tensorflow-intel==2.15.0->tensorflow) (2.15.2)\n",
      "Requirement already satisfied: gast!=0.5.0,!=0.5.1,!=0.5.2,>=0.2.1 in c:\\users\\1\\uoa_py_course\\course_venv\\lib\\site-packages (from tensorflow-intel==2.15.0->tensorflow) (0.5.4)\n",
      "Requirement already satisfied: opt-einsum>=2.3.2 in c:\\users\\1\\uoa_py_course\\course_venv\\lib\\site-packages (from tensorflow-intel==2.15.0->tensorflow) (3.3.0)\n",
      "Requirement already satisfied: six>=1.12.0 in c:\\users\\1\\uoa_py_course\\course_venv\\lib\\site-packages (from tensorflow-intel==2.15.0->tensorflow) (1.16.0)\n",
      "Requirement already satisfied: typing-extensions>=3.6.6 in c:\\users\\1\\uoa_py_course\\course_venv\\lib\\site-packages (from tensorflow-intel==2.15.0->tensorflow) (4.9.0)\n",
      "Requirement already satisfied: tensorflow-io-gcs-filesystem>=0.23.1 in c:\\users\\1\\uoa_py_course\\course_venv\\lib\\site-packages (from tensorflow-intel==2.15.0->tensorflow) (0.31.0)\n",
      "Requirement already satisfied: wrapt<1.15,>=1.11.0 in c:\\users\\1\\uoa_py_course\\course_venv\\lib\\site-packages (from tensorflow-intel==2.15.0->tensorflow) (1.14.1)\n",
      "Requirement already satisfied: termcolor>=1.1.0 in c:\\users\\1\\uoa_py_course\\course_venv\\lib\\site-packages (from tensorflow-intel==2.15.0->tensorflow) (2.4.0)\n",
      "Requirement already satisfied: h5py>=2.9.0 in c:\\users\\1\\uoa_py_course\\course_venv\\lib\\site-packages (from tensorflow-intel==2.15.0->tensorflow) (3.10.0)\n",
      "Requirement already satisfied: google-pasta>=0.1.1 in c:\\users\\1\\uoa_py_course\\course_venv\\lib\\site-packages (from tensorflow-intel==2.15.0->tensorflow) (0.2.0)\n",
      "Requirement already satisfied: astunparse>=1.6.0 in c:\\users\\1\\uoa_py_course\\course_venv\\lib\\site-packages (from tensorflow-intel==2.15.0->tensorflow) (1.6.3)\n",
      "Requirement already satisfied: flatbuffers>=23.5.26 in c:\\users\\1\\uoa_py_course\\course_venv\\lib\\site-packages (from tensorflow-intel==2.15.0->tensorflow) (23.5.26)\n",
      "Requirement already satisfied: numpy<2.0.0,>=1.23.5 in c:\\users\\1\\uoa_py_course\\course_venv\\lib\\site-packages (from tensorflow-intel==2.15.0->tensorflow) (1.24.2)\n",
      "Requirement already satisfied: absl-py>=1.0.0 in c:\\users\\1\\uoa_py_course\\course_venv\\lib\\site-packages (from tensorflow-intel==2.15.0->tensorflow) (2.1.0)\n",
      "Requirement already satisfied: protobuf!=4.21.0,!=4.21.1,!=4.21.2,!=4.21.3,!=4.21.4,!=4.21.5,<5.0.0dev,>=3.20.3 in c:\\users\\1\\uoa_py_course\\course_venv\\lib\\site-packages (from tensorflow-intel==2.15.0->tensorflow) (4.25.2)\n",
      "Requirement already satisfied: libclang>=13.0.0 in c:\\users\\1\\uoa_py_course\\course_venv\\lib\\site-packages (from tensorflow-intel==2.15.0->tensorflow) (16.0.6)\n",
      "Requirement already satisfied: ml-dtypes~=0.2.0 in c:\\users\\1\\uoa_py_course\\course_venv\\lib\\site-packages (from tensorflow-intel==2.15.0->tensorflow) (0.2.0)\n",
      "Requirement already satisfied: setuptools in c:\\users\\1\\uoa_py_course\\course_venv\\lib\\site-packages (from tensorflow-intel==2.15.0->tensorflow) (67.6.1)\n",
      "Requirement already satisfied: packaging in c:\\users\\1\\uoa_py_course\\course_venv\\lib\\site-packages (from tensorflow-intel==2.15.0->tensorflow) (23.0)\n",
      "Requirement already satisfied: wheel<1.0,>=0.23.0 in c:\\users\\1\\uoa_py_course\\course_venv\\lib\\site-packages (from astunparse>=1.6.0->tensorflow-intel==2.15.0->tensorflow) (0.40.0)\n",
      "Requirement already satisfied: werkzeug>=1.0.1 in c:\\users\\1\\uoa_py_course\\course_venv\\lib\\site-packages (from tensorboard<2.16,>=2.15->tensorflow-intel==2.15.0->tensorflow) (3.0.1)\n",
      "Requirement already satisfied: google-auth-oauthlib<2,>=0.5 in c:\\users\\1\\uoa_py_course\\course_venv\\lib\\site-packages (from tensorboard<2.16,>=2.15->tensorflow-intel==2.15.0->tensorflow) (1.2.0)\n",
      "Requirement already satisfied: tensorboard-data-server<0.8.0,>=0.7.0 in c:\\users\\1\\uoa_py_course\\course_venv\\lib\\site-packages (from tensorboard<2.16,>=2.15->tensorflow-intel==2.15.0->tensorflow) (0.7.2)\n",
      "Requirement already satisfied: google-auth<3,>=1.6.3 in c:\\users\\1\\uoa_py_course\\course_venv\\lib\\site-packages (from tensorboard<2.16,>=2.15->tensorflow-intel==2.15.0->tensorflow) (2.27.0)\n",
      "Requirement already satisfied: markdown>=2.6.8 in c:\\users\\1\\uoa_py_course\\course_venv\\lib\\site-packages (from tensorboard<2.16,>=2.15->tensorflow-intel==2.15.0->tensorflow) (3.5.2)\n",
      "Requirement already satisfied: requests<3,>=2.21.0 in c:\\users\\1\\uoa_py_course\\course_venv\\lib\\site-packages (from tensorboard<2.16,>=2.15->tensorflow-intel==2.15.0->tensorflow) (2.28.2)\n",
      "Requirement already satisfied: cachetools<6.0,>=2.0.0 in c:\\users\\1\\uoa_py_course\\course_venv\\lib\\site-packages (from google-auth<3,>=1.6.3->tensorboard<2.16,>=2.15->tensorflow-intel==2.15.0->tensorflow) (5.3.2)\n",
      "Requirement already satisfied: rsa<5,>=3.1.4 in c:\\users\\1\\uoa_py_course\\course_venv\\lib\\site-packages (from google-auth<3,>=1.6.3->tensorboard<2.16,>=2.15->tensorflow-intel==2.15.0->tensorflow) (4.9)\n",
      "Requirement already satisfied: pyasn1-modules>=0.2.1 in c:\\users\\1\\uoa_py_course\\course_venv\\lib\\site-packages (from google-auth<3,>=1.6.3->tensorboard<2.16,>=2.15->tensorflow-intel==2.15.0->tensorflow) (0.3.0)\n",
      "Requirement already satisfied: requests-oauthlib>=0.7.0 in c:\\users\\1\\uoa_py_course\\course_venv\\lib\\site-packages (from google-auth-oauthlib<2,>=0.5->tensorboard<2.16,>=2.15->tensorflow-intel==2.15.0->tensorflow) (1.3.1)\n",
      "Requirement already satisfied: urllib3<1.27,>=1.21.1 in c:\\users\\1\\uoa_py_course\\course_venv\\lib\\site-packages (from requests<3,>=2.21.0->tensorboard<2.16,>=2.15->tensorflow-intel==2.15.0->tensorflow) (1.26.15)\n",
      "Requirement already satisfied: idna<4,>=2.5 in c:\\users\\1\\uoa_py_course\\course_venv\\lib\\site-packages (from requests<3,>=2.21.0->tensorboard<2.16,>=2.15->tensorflow-intel==2.15.0->tensorflow) (3.4)\n",
      "Requirement already satisfied: charset-normalizer<4,>=2 in c:\\users\\1\\uoa_py_course\\course_venv\\lib\\site-packages (from requests<3,>=2.21.0->tensorboard<2.16,>=2.15->tensorflow-intel==2.15.0->tensorflow) (3.1.0)\n",
      "Requirement already satisfied: certifi>=2017.4.17 in c:\\users\\1\\uoa_py_course\\course_venv\\lib\\site-packages (from requests<3,>=2.21.0->tensorboard<2.16,>=2.15->tensorflow-intel==2.15.0->tensorflow) (2022.12.7)\n",
      "Requirement already satisfied: MarkupSafe>=2.1.1 in c:\\users\\1\\uoa_py_course\\course_venv\\lib\\site-packages (from werkzeug>=1.0.1->tensorboard<2.16,>=2.15->tensorflow-intel==2.15.0->tensorflow) (2.1.2)\n",
      "Requirement already satisfied: pyasn1<0.6.0,>=0.4.6 in c:\\users\\1\\uoa_py_course\\course_venv\\lib\\site-packages (from pyasn1-modules>=0.2.1->google-auth<3,>=1.6.3->tensorboard<2.16,>=2.15->tensorflow-intel==2.15.0->tensorflow) (0.5.1)\n",
      "Requirement already satisfied: oauthlib>=3.0.0 in c:\\users\\1\\uoa_py_course\\course_venv\\lib\\site-packages (from requests-oauthlib>=0.7.0->google-auth-oauthlib<2,>=0.5->tensorboard<2.16,>=2.15->tensorflow-intel==2.15.0->tensorflow) (3.2.2)\n"
     ]
    },
    {
     "name": "stderr",
     "output_type": "stream",
     "text": [
      "\n",
      "[notice] A new release of pip is available: 23.0.1 -> 24.0\n",
      "[notice] To update, run: python.exe -m pip install --upgrade pip\n"
     ]
    }
   ],
   "source": [
    "!pip install  tensorflow keras"
   ]
  },
  {
   "cell_type": "code",
   "execution_count": 8,
   "id": "38cc2d04-29e2-4a7e-9046-59604ca24976",
   "metadata": {
    "tags": []
   },
   "outputs": [
    {
     "name": "stdout",
     "output_type": "stream",
     "text": [
      "WARNING:tensorflow:From C:\\Users\\1\\uoa_py_course\\course_venv\\lib\\site-packages\\keras\\src\\losses.py:2976: The name tf.losses.sparse_softmax_cross_entropy is deprecated. Please use tf.compat.v1.losses.sparse_softmax_cross_entropy instead.\n",
      "\n",
      "WARNING:tensorflow:From C:\\Users\\1\\AppData\\Local\\Temp\\ipykernel_15292\\2820872922.py:2: The name tf.disable_v2_behavior is deprecated. Please use tf.compat.v1.disable_v2_behavior instead.\n",
      "\n",
      "WARNING:tensorflow:From C:\\Users\\1\\uoa_py_course\\course_venv\\lib\\site-packages\\tensorflow\\python\\compat\\v2_compat.py:108: disable_resource_variables (from tensorflow.python.ops.variable_scope) is deprecated and will be removed in a future version.\n",
      "Instructions for updating:\n",
      "non-resource variables are not supported in the long term\n"
     ]
    }
   ],
   "source": [
    "import tensorflow.compat.v1 as tf\n",
    "tf.disable_v2_behavior()"
   ]
  },
  {
   "cell_type": "code",
   "execution_count": 9,
   "id": "8133dd0b-acf6-4796-970b-5ab1c41a5331",
   "metadata": {
    "tags": []
   },
   "outputs": [],
   "source": [
    "import tensorflow as tf #deploying artificial neural networks\n"
   ]
  },
  {
   "cell_type": "code",
   "execution_count": 10,
   "id": "cf6106c8-7e21-4656-b9cf-2bdbcc986bd4",
   "metadata": {
    "tags": []
   },
   "outputs": [],
   "source": [
    "import matplotlib.pyplot as plt #plots and visualizations\n",
    "import seaborn as sns"
   ]
  },
  {
   "cell_type": "code",
   "execution_count": 11,
   "id": "ced36059-7e02-4645-bc6b-67e84b865a91",
   "metadata": {
    "tags": []
   },
   "outputs": [],
   "source": [
    "from keras.preprocessing.text import one_hot, Tokenizer #one_hot function to convert text data into binary matrix representation where each word is a unique index\n",
    "                                                        #tokenizer class for indexing words in a text corpus\n",
    "from keras.models import Sequential #feedforward neural networks\n",
    "from keras.layers import Activation, Dropout, Dense # Activation function to the output of the previous layer \n",
    "                                                    #Dropout layer for prevent overfitting\n",
    "                                                 # Dense layer means each neuron in the layer is connected to every neuron in the previous and next layer.fully connected\n",
    "from tensorflow.keras.layers import  Conv1D, LSTM, SimpleRNN, Embedding,SpatialDropout1D  #LSTM layer is a type of recurrent layer that is capable of learning long-term dependencies in sequential data\n",
    "                                                                #SimpleRNN is  a basic recurrent layer that can capture short-term dependencies in sequential data.\n",
    "                                                                #Embedding layer for converting integer indices representing words into dense vectors of fixed size. \n",
    "   "
   ]
  },
  {
   "cell_type": "code",
   "execution_count": 12,
   "id": "7cec80f5-d254-4ec6-bfee-750e180c21e5",
   "metadata": {
    "tags": []
   },
   "outputs": [
    {
     "name": "stdout",
     "output_type": "stream",
     "text": [
      "Requirement already satisfied: scikit-learn in c:\\users\\1\\uoa_py_course\\course_venv\\lib\\site-packages (1.2.2)\n",
      "Requirement already satisfied: threadpoolctl>=2.0.0 in c:\\users\\1\\uoa_py_course\\course_venv\\lib\\site-packages (from scikit-learn) (3.1.0)\n",
      "Requirement already satisfied: scipy>=1.3.2 in c:\\users\\1\\uoa_py_course\\course_venv\\lib\\site-packages (from scikit-learn) (1.10.1)\n",
      "Requirement already satisfied: joblib>=1.1.1 in c:\\users\\1\\uoa_py_course\\course_venv\\lib\\site-packages (from scikit-learn) (1.2.0)\n",
      "Requirement already satisfied: numpy>=1.17.3 in c:\\users\\1\\uoa_py_course\\course_venv\\lib\\site-packages (from scikit-learn) (1.24.2)\n"
     ]
    },
    {
     "name": "stderr",
     "output_type": "stream",
     "text": [
      "\n",
      "[notice] A new release of pip is available: 23.0.1 -> 24.0\n",
      "[notice] To update, run: python.exe -m pip install --upgrade pip\n"
     ]
    }
   ],
   "source": [
    "!pip install  scikit-learn"
   ]
  },
  {
   "cell_type": "code",
   "execution_count": 13,
   "id": "f24eb14f-6953-4bec-ae0c-eec86a53bc19",
   "metadata": {},
   "outputs": [],
   "source": [
    "from sklearn.model_selection import train_test_split\n",
    "from sklearn.feature_extraction.text import CountVectorizer\n",
    "from sklearn.naive_bayes import MultinomialNB\n",
    "from sklearn.metrics import confusion_matrix, classification_report"
   ]
  },
  {
   "cell_type": "code",
   "execution_count": 14,
   "id": "246cc7c4-b3bf-47eb-a4c4-4caf78832f4c",
   "metadata": {},
   "outputs": [],
   "source": [
    "from keras.preprocessing.sequence import pad_sequences #pad_sequences is used to ensure that all sequences have the same length by padding shorter sequences with zeros."
   ]
  },
  {
   "cell_type": "markdown",
   "id": "52b304c4-4142-4910-94ed-0247db0bb84e",
   "metadata": {},
   "source": [
    "2.LOAD DATA "
   ]
  },
  {
   "cell_type": "code",
   "execution_count": 15,
   "id": "8d207034-06bb-4c55-b38c-00b0f4e0d6d2",
   "metadata": {
    "tags": []
   },
   "outputs": [],
   "source": [
    "df=pd.read_csv ('IMDB Dataset.csv')\n"
   ]
  },
  {
   "cell_type": "code",
   "execution_count": 16,
   "id": "fc25e7f1-e45f-4f84-936f-8bb7f883896a",
   "metadata": {
    "tags": []
   },
   "outputs": [
    {
     "data": {
      "text/html": [
       "<div>\n",
       "<style scoped>\n",
       "    .dataframe tbody tr th:only-of-type {\n",
       "        vertical-align: middle;\n",
       "    }\n",
       "\n",
       "    .dataframe tbody tr th {\n",
       "        vertical-align: top;\n",
       "    }\n",
       "\n",
       "    .dataframe thead th {\n",
       "        text-align: right;\n",
       "    }\n",
       "</style>\n",
       "<table border=\"1\" class=\"dataframe\">\n",
       "  <thead>\n",
       "    <tr style=\"text-align: right;\">\n",
       "      <th></th>\n",
       "      <th>review</th>\n",
       "      <th>sentiment</th>\n",
       "    </tr>\n",
       "  </thead>\n",
       "  <tbody>\n",
       "    <tr>\n",
       "      <th>0</th>\n",
       "      <td>One of the other reviewers has mentioned that ...</td>\n",
       "      <td>positive</td>\n",
       "    </tr>\n",
       "    <tr>\n",
       "      <th>1</th>\n",
       "      <td>A wonderful little production. &lt;br /&gt;&lt;br /&gt;The...</td>\n",
       "      <td>positive</td>\n",
       "    </tr>\n",
       "    <tr>\n",
       "      <th>2</th>\n",
       "      <td>I thought this was a wonderful way to spend ti...</td>\n",
       "      <td>positive</td>\n",
       "    </tr>\n",
       "    <tr>\n",
       "      <th>3</th>\n",
       "      <td>Basically there's a family where a little boy ...</td>\n",
       "      <td>negative</td>\n",
       "    </tr>\n",
       "    <tr>\n",
       "      <th>4</th>\n",
       "      <td>Petter Mattei's \"Love in the Time of Money\" is...</td>\n",
       "      <td>positive</td>\n",
       "    </tr>\n",
       "    <tr>\n",
       "      <th>...</th>\n",
       "      <td>...</td>\n",
       "      <td>...</td>\n",
       "    </tr>\n",
       "    <tr>\n",
       "      <th>49995</th>\n",
       "      <td>I thought this movie did a down right good job...</td>\n",
       "      <td>positive</td>\n",
       "    </tr>\n",
       "    <tr>\n",
       "      <th>49996</th>\n",
       "      <td>Bad plot, bad dialogue, bad acting, idiotic di...</td>\n",
       "      <td>negative</td>\n",
       "    </tr>\n",
       "    <tr>\n",
       "      <th>49997</th>\n",
       "      <td>I am a Catholic taught in parochial elementary...</td>\n",
       "      <td>negative</td>\n",
       "    </tr>\n",
       "    <tr>\n",
       "      <th>49998</th>\n",
       "      <td>I'm going to have to disagree with the previou...</td>\n",
       "      <td>negative</td>\n",
       "    </tr>\n",
       "    <tr>\n",
       "      <th>49999</th>\n",
       "      <td>No one expects the Star Trek movies to be high...</td>\n",
       "      <td>negative</td>\n",
       "    </tr>\n",
       "  </tbody>\n",
       "</table>\n",
       "<p>50000 rows × 2 columns</p>\n",
       "</div>"
      ],
      "text/plain": [
       "                                                  review sentiment\n",
       "0      One of the other reviewers has mentioned that ...  positive\n",
       "1      A wonderful little production. <br /><br />The...  positive\n",
       "2      I thought this was a wonderful way to spend ti...  positive\n",
       "3      Basically there's a family where a little boy ...  negative\n",
       "4      Petter Mattei's \"Love in the Time of Money\" is...  positive\n",
       "...                                                  ...       ...\n",
       "49995  I thought this movie did a down right good job...  positive\n",
       "49996  Bad plot, bad dialogue, bad acting, idiotic di...  negative\n",
       "49997  I am a Catholic taught in parochial elementary...  negative\n",
       "49998  I'm going to have to disagree with the previou...  negative\n",
       "49999  No one expects the Star Trek movies to be high...  negative\n",
       "\n",
       "[50000 rows x 2 columns]"
      ]
     },
     "execution_count": 16,
     "metadata": {},
     "output_type": "execute_result"
    }
   ],
   "source": [
    "df"
   ]
  },
  {
   "cell_type": "markdown",
   "id": "c98dec71-1d51-4dd3-8b91-e2cb43f8ea68",
   "metadata": {},
   "source": [
    "3. DATA INFOS\n"
   ]
  },
  {
   "cell_type": "code",
   "execution_count": 17,
   "id": "ca446f73-31b8-48cf-b1a4-46657556f404",
   "metadata": {
    "tags": []
   },
   "outputs": [
    {
     "data": {
      "text/plain": [
       "(50000, 2)"
      ]
     },
     "execution_count": 17,
     "metadata": {},
     "output_type": "execute_result"
    }
   ],
   "source": [
    "df.shape   #number of rows and columns"
   ]
  },
  {
   "cell_type": "code",
   "execution_count": 18,
   "id": "715a3370-5ada-473f-a019-a046b4a38a16",
   "metadata": {
    "tags": []
   },
   "outputs": [
    {
     "name": "stdout",
     "output_type": "stream",
     "text": [
      "<class 'pandas.core.frame.DataFrame'>\n",
      "RangeIndex: 50000 entries, 0 to 49999\n",
      "Data columns (total 2 columns):\n",
      " #   Column     Non-Null Count  Dtype \n",
      "---  ------     --------------  ----- \n",
      " 0   review     50000 non-null  object\n",
      " 1   sentiment  50000 non-null  object\n",
      "dtypes: object(2)\n",
      "memory usage: 781.4+ KB\n"
     ]
    }
   ],
   "source": [
    "df.info() # 2 columns object data type "
   ]
  },
  {
   "cell_type": "code",
   "execution_count": 19,
   "id": "446df62d-b591-48fc-97a5-0e11dfe80d37",
   "metadata": {},
   "outputs": [
    {
     "name": "stdout",
     "output_type": "stream",
     "text": [
      "Any missing value? False\n"
     ]
    }
   ],
   "source": [
    "print (\"Any missing value?\", df.isnull().values.any()) #check for missing values "
   ]
  },
  {
   "cell_type": "code",
   "execution_count": 20,
   "id": "e4ab698d-e9ec-49e5-bf21-4ebaeb79bca5",
   "metadata": {
    "tags": []
   },
   "outputs": [
    {
     "data": {
      "text/html": [
       "<div>\n",
       "<style scoped>\n",
       "    .dataframe tbody tr th:only-of-type {\n",
       "        vertical-align: middle;\n",
       "    }\n",
       "\n",
       "    .dataframe tbody tr th {\n",
       "        vertical-align: top;\n",
       "    }\n",
       "\n",
       "    .dataframe thead th {\n",
       "        text-align: right;\n",
       "    }\n",
       "</style>\n",
       "<table border=\"1\" class=\"dataframe\">\n",
       "  <thead>\n",
       "    <tr style=\"text-align: right;\">\n",
       "      <th></th>\n",
       "      <th>review</th>\n",
       "      <th>sentiment</th>\n",
       "    </tr>\n",
       "  </thead>\n",
       "  <tbody>\n",
       "    <tr>\n",
       "      <th>count</th>\n",
       "      <td>50000</td>\n",
       "      <td>50000</td>\n",
       "    </tr>\n",
       "    <tr>\n",
       "      <th>unique</th>\n",
       "      <td>49582</td>\n",
       "      <td>2</td>\n",
       "    </tr>\n",
       "    <tr>\n",
       "      <th>top</th>\n",
       "      <td>Loved today's show!!! It was a variety and not...</td>\n",
       "      <td>positive</td>\n",
       "    </tr>\n",
       "    <tr>\n",
       "      <th>freq</th>\n",
       "      <td>5</td>\n",
       "      <td>25000</td>\n",
       "    </tr>\n",
       "  </tbody>\n",
       "</table>\n",
       "</div>"
      ],
      "text/plain": [
       "                                                   review sentiment\n",
       "count                                               50000     50000\n",
       "unique                                              49582         2\n",
       "top     Loved today's show!!! It was a variety and not...  positive\n",
       "freq                                                    5     25000"
      ]
     },
     "execution_count": 20,
     "metadata": {},
     "output_type": "execute_result"
    }
   ],
   "source": [
    "df.describe(include='all') #overall statistics "
   ]
  },
  {
   "cell_type": "code",
   "execution_count": 21,
   "id": "397b446f-a277-47ff-bb0f-83a7e8711d0d",
   "metadata": {
    "tags": []
   },
   "outputs": [
    {
     "data": {
      "text/plain": [
       "\"Okay, so this series kind of takes the route of 'here we go again!' Week in, week out David Morse's character helps out his ride who is in a bit of a pickle - but what's wrong with that!? David Morse is one of the greatest character actors out there, and certainly the coolest, and to have him in a series created by David Koepp - a great writer - is heaven!!<br /><br />Due to the lack of love for this show by many, I can't see it going to a season series - but you never know? The amount of rubbish that has made it beyond that baffles me - let's hope something good can make it past a first series!!!\""
      ]
     },
     "execution_count": 21,
     "metadata": {},
     "output_type": "execute_result"
    }
   ],
   "source": [
    "df['review'][38] #Example of a data point "
   ]
  },
  {
   "cell_type": "code",
   "execution_count": 22,
   "id": "ed861532-646b-4e9f-b106-1e207f41023a",
   "metadata": {
    "tags": []
   },
   "outputs": [
    {
     "data": {
      "text/plain": [
       "'positive'"
      ]
     },
     "execution_count": 22,
     "metadata": {},
     "output_type": "execute_result"
    }
   ],
   "source": [
    "df[\"sentiment\"][38]"
   ]
  },
  {
   "cell_type": "code",
   "execution_count": 23,
   "id": "6128fb71-9632-4237-a576-d2ec6fc9f321",
   "metadata": {
    "tags": []
   },
   "outputs": [],
   "source": [
    "random_state = 38"
   ]
  },
  {
   "cell_type": "code",
   "execution_count": 24,
   "id": "7bd6affc-178f-4a92-9657-933b97900cbf",
   "metadata": {},
   "outputs": [
    {
     "data": {
      "text/plain": [
       "positive    25000\n",
       "negative    25000\n",
       "Name: sentiment, dtype: int64"
      ]
     },
     "execution_count": 24,
     "metadata": {},
     "output_type": "execute_result"
    }
   ],
   "source": [
    "df[\"sentiment\"].value_counts() #checking for imbalances"
   ]
  },
  {
   "cell_type": "code",
   "execution_count": 25,
   "id": "8d878778-ca8e-4428-9c4f-35095af23fc3",
   "metadata": {
    "tags": []
   },
   "outputs": [],
   "source": [
    "sns.set_theme(style='ticks', palette='BrBG')"
   ]
  },
  {
   "cell_type": "code",
   "execution_count": 26,
   "id": "778892c4-6f39-47a7-9760-914c381a5f86",
   "metadata": {
    "tags": []
   },
   "outputs": [
    {
     "data": {
      "image/png": "[encoded data removed]",
      "text/plain": [
       "<Figure size 640x480 with 1 Axes>"
      ]
     },
     "metadata": {},
     "output_type": "display_data"
    }
   ],
   "source": [
    "sns.countplot(data=df, y='sentiment')\\\n",
    "   .set(title='Count of Positive vs Negative Reviews')\n",
    "\n",
    "plt.show()                                               #Count of Positive vs Negative Reviews graph"
   ]
  },
  {
   "cell_type": "markdown",
   "id": "b4bf7459-546a-4e02-ab9b-430828dc46bf",
   "metadata": {},
   "source": [
    "4.DATA CLEANING AND PREPROCESSING "
   ]
  },
  {
   "cell_type": "code",
   "execution_count": 27,
   "id": "67b89f97-0fd8-4abc-811f-541efdb27d64",
   "metadata": {},
   "outputs": [],
   "source": [
    "df.drop_duplicates(subset=['review'], inplace=True) # drop duplicates"
   ]
  },
  {
   "cell_type": "code",
   "execution_count": 28,
   "id": "5a45c414-7236-4e6d-972d-5f4155b07154",
   "metadata": {},
   "outputs": [],
   "source": [
    "df['sentiment'].replace({'positive':1,'negative':0},inplace=True) #convert the values in the 'sentiment' column from strings ('positive' and 'negative') to numerical values (1 and 0)"
   ]
  },
  {
   "cell_type": "code",
   "execution_count": 29,
   "id": "d8480564-5f3d-4d66-9625-d4d5fe02a0d1",
   "metadata": {
    "tags": []
   },
   "outputs": [
    {
     "name": "stdout",
     "output_type": "stream",
     "text": [
      "Joan Cusack steals the show! The premise is good, the plot line interesting and the screenplay was OK. A tad too simplistic in that a coming-out story of a gay man was so positive when it is usually not quite-so-positive. Then again, it IS fiction. :) All in all an entertaining romp.<br /><br />One thing I noticed was the \"inside-joke\" aspect. Since the target-audience probably was straight, they may not get the gay \"stuff\" in context with the story. <br /><br />Kevin Kline showed a facet of his acting prowess that screenwriters sometimes don't take in consideration when suggesting Kline for a part.<br /><br />This one hit the mark.\n"
     ]
    }
   ],
   "source": [
    "def print_random_review() -> None:\n",
    "    random_review = df.review.sample(n=1, random_state=random_state).values  # select and print a random review in full\n",
    "    print(random_review[0])\n",
    "\n",
    "print_random_review()"
   ]
  },
  {
   "cell_type": "code",
   "execution_count": 30,
   "id": "49bfa7be-2e6a-49e0-ada2-2818a1b4f5a7",
   "metadata": {
    "tags": []
   },
   "outputs": [],
   "source": [
    "def remove_html_tags(text: str) -> str: #Remove HTML tags\n",
    "    pattern = re.compile('<.*?>')  # find and replace html tag patterns in text\n",
    "    return pattern.sub(r'', text)"
   ]
  },
  {
   "cell_type": "code",
   "execution_count": 31,
   "id": "d2deca0f-1c77-49cf-8a02-471bf590d597",
   "metadata": {
    "tags": []
   },
   "outputs": [],
   "source": [
    "df['review'] = df.review.apply(remove_html_tags)"
   ]
  },
  {
   "cell_type": "code",
   "execution_count": 32,
   "id": "38972dac-2fd9-4e23-83f4-b1e68d6ecd7f",
   "metadata": {
    "tags": []
   },
   "outputs": [
    {
     "name": "stdout",
     "output_type": "stream",
     "text": [
      "Joan Cusack steals the show! The premise is good, the plot line interesting and the screenplay was OK. A tad too simplistic in that a coming-out story of a gay man was so positive when it is usually not quite-so-positive. Then again, it IS fiction. :) All in all an entertaining romp.One thing I noticed was the \"inside-joke\" aspect. Since the target-audience probably was straight, they may not get the gay \"stuff\" in context with the story. Kevin Kline showed a facet of his acting prowess that screenwriters sometimes don't take in consideration when suggesting Kline for a part.This one hit the mark.\n"
     ]
    }
   ],
   "source": [
    "print_random_review()"
   ]
  },
  {
   "cell_type": "code",
   "execution_count": 33,
   "id": "68f6b69c-12e0-4b5e-a340-ca74128d015e",
   "metadata": {
    "tags": []
   },
   "outputs": [
    {
     "name": "stdout",
     "output_type": "stream",
     "text": [
      "Joan Cusack steals the show! The premise is good, the plot line interesting and the screenplay was OK. A tad too simplistic in that a coming-out story of a gay man was so positive when it is usually not quite-so-positive. Then again, it IS fiction. :) All in all an entertaining romp.One thing I noticed was the \"inside-joke\" aspect. Since the target-audience probably was straight, they may not get the gay \"stuff\" in context with the story. Kevin Kline showed a facet of his acting prowess that screenwriters sometimes don't take in consideration when suggesting Kline for a part.This one hit the mark.\n"
     ]
    }
   ],
   "source": [
    "def remove_urls(text: str) -> str:\n",
    "    pattern= re.compile(r'https?://\\S+|www\\.\\S+', flags=re.IGNORECASE)  # find and replace url patterns in text\n",
    "    return pattern.sub(r'', text)\n",
    "\n",
    "\n",
    "df['review'] = df.review.apply(remove_urls) # apply the function to reviews\n",
    "\n",
    "print_random_review()"
   ]
  },
  {
   "cell_type": "code",
   "execution_count": 34,
   "id": "cce53c4c-89e2-4419-bbcd-7bf3266a8f02",
   "metadata": {
    "tags": []
   },
   "outputs": [
    {
     "name": "stdout",
     "output_type": "stream",
     "text": [
      "joan cusack steals the show! the premise is good, the plot line interesting and the screenplay was ok. a tad too simplistic in that a coming-out story of a gay man was so positive when it is usually not quite-so-positive. then again, it is fiction. :) all in all an entertaining romp.one thing i noticed was the \"inside-joke\" aspect. since the target-audience probably was straight, they may not get the gay \"stuff\" in context with the story. kevin kline showed a facet of his acting prowess that screenwriters sometimes don't take in consideration when suggesting kline for a part.this one hit the mark.\n"
     ]
    }
   ],
   "source": [
    "df['review'] = df.review.str.lower()\n",
    "                                         #Convert all reviews to lower case text strings \n",
    "print_random_review()                                      "
   ]
  },
  {
   "cell_type": "code",
   "execution_count": 35,
   "id": "b4e4c8d8-5569-4f59-b942-d53abaa2ddb7",
   "metadata": {
    "tags": []
   },
   "outputs": [
    {
     "name": "stderr",
     "output_type": "stream",
     "text": [
      "[nltk_data] Downloading package stopwords to\n",
      "[nltk_data]     C:\\Users\\1\\AppData\\Roaming\\nltk_data...\n",
      "[nltk_data]   Package stopwords is already up-to-date!\n"
     ]
    },
    {
     "data": {
      "text/plain": [
       "True"
      ]
     },
     "execution_count": 35,
     "metadata": {},
     "output_type": "execute_result"
    }
   ],
   "source": [
    "nltk.download('stopwords')"
   ]
  },
  {
   "cell_type": "code",
   "execution_count": 36,
   "id": "225160d3-3959-463c-b1a3-ecd000e43ed2",
   "metadata": {
    "tags": []
   },
   "outputs": [
    {
     "name": "stdout",
     "output_type": "stream",
     "text": [
      "['i', 'me', 'my', 'myself', 'we', 'our', 'ours', 'ourselves', 'you', \"you're\", \"you've\", \"you'll\", \"you'd\", 'your', 'yours', 'yourself', 'yourselves', 'he', 'him', 'his', 'himself', 'she', \"she's\", 'her', 'hers', 'herself', 'it', \"it's\", 'its', 'itself', 'they', 'them', 'their', 'theirs', 'themselves', 'what', 'which', 'who', 'whom', 'this', 'that', \"that'll\", 'these', 'those', 'am', 'is', 'are', 'was', 'were', 'be', 'been', 'being', 'have', 'has', 'had', 'having', 'do', 'does', 'did', 'doing', 'a', 'an', 'the', 'and', 'but', 'if', 'or', 'because', 'as', 'until', 'while', 'of', 'at', 'by', 'for', 'with', 'about', 'against', 'between', 'into', 'through', 'during', 'before', 'after', 'above', 'below', 'to', 'from', 'up', 'down', 'in', 'out', 'on', 'off', 'over', 'under', 'again', 'further', 'then', 'once', 'here', 'there', 'when', 'where', 'why', 'how', 'all', 'any', 'both', 'each', 'few', 'more', 'most', 'other', 'some', 'such', 'no', 'nor', 'not', 'only', 'own', 'same', 'so', 'than', 'too', 'very', 's', 't', 'can', 'will', 'just', 'don', \"don't\", 'should', \"should've\", 'now', 'd', 'll', 'm', 'o', 're', 've', 'y', 'ain', 'aren', \"aren't\", 'couldn', \"couldn't\", 'didn', \"didn't\", 'doesn', \"doesn't\", 'hadn', \"hadn't\", 'hasn', \"hasn't\", 'haven', \"haven't\", 'isn', \"isn't\", 'ma', 'mightn', \"mightn't\", 'mustn', \"mustn't\", 'needn', \"needn't\", 'shan', \"shan't\", 'shouldn', \"shouldn't\", 'wasn', \"wasn't\", 'weren', \"weren't\", 'won', \"won't\", 'wouldn', \"wouldn't\"]\n"
     ]
    }
   ],
   "source": [
    "stop_words = stopwords.words('english')\n",
    "print(stop_words)                          \n",
    "\n",
    "\n",
    "def remove_stop_words(text: str) -> str:\n",
    "    words = [word for word in text.split() if word not in stop_words]\n",
    "    return \" \".join(words)"
   ]
  },
  {
   "cell_type": "code",
   "execution_count": 37,
   "id": "2fa60ecc-95ba-4c77-9aeb-d82de1a5a9be",
   "metadata": {
    "tags": []
   },
   "outputs": [
    {
     "name": "stdout",
     "output_type": "stream",
     "text": [
      "joan cusack steals show! premise good, plot line interesting screenplay ok. tad simplistic coming-out story gay man positive usually quite-so-positive. again, fiction. :) entertaining romp.one thing noticed \"inside-joke\" aspect. since target-audience probably straight, may get gay \"stuff\" context story. kevin kline showed facet acting prowess screenwriters sometimes take consideration suggesting kline part.this one hit mark.\n"
     ]
    }
   ],
   "source": [
    "df['review'] = df.review.apply(remove_stop_words)\n",
    "print_random_review()                               #Remove stop words                          "
   ]
  },
  {
   "cell_type": "code",
   "execution_count": 38,
   "id": "622f1900-f004-446c-b251-53a52f628ebd",
   "metadata": {
    "tags": []
   },
   "outputs": [
    {
     "name": "stderr",
     "output_type": "stream",
     "text": [
      "[nltk_data] Downloading package punkt to\n",
      "[nltk_data]     C:\\Users\\1\\AppData\\Roaming\\nltk_data...\n",
      "[nltk_data]   Package punkt is already up-to-date!\n"
     ]
    },
    {
     "data": {
      "text/plain": [
       "True"
      ]
     },
     "execution_count": 38,
     "metadata": {},
     "output_type": "execute_result"
    }
   ],
   "source": [
    "nltk.download('punkt')"
   ]
  },
  {
   "cell_type": "code",
   "execution_count": 39,
   "id": "09905ce1-4614-46bd-9732-8d7c8e76e3db",
   "metadata": {
    "tags": []
   },
   "outputs": [
    {
     "name": "stdout",
     "output_type": "stream",
     "text": [
      "joan cusack steals show premise good plot line interesting screenplay ok tad simplistic comingout story gay man positive usually quitesopositive again fiction  entertaining rompone thing noticed insidejoke aspect since targetaudience probably straight may get gay stuff context story kevin kline showed facet acting prowess screenwriters sometimes take consideration suggesting kline partthis one hit mark\n"
     ]
    }
   ],
   "source": [
    "def remove_punctuations(text: str) -> str:\n",
    "    return text.translate(str.maketrans('', '', string.punctuation))\n",
    "df['review'] = df.review.apply(remove_punctuations)\n",
    "print_random_review()"
   ]
  },
  {
   "cell_type": "code",
   "execution_count": 40,
   "id": "9e3175fe-71c6-411a-b512-7011f806a85d",
   "metadata": {
    "tags": []
   },
   "outputs": [
    {
     "name": "stdout",
     "output_type": "stream",
     "text": [
      "joan cusack steals show premise good plot line interesting screenplay ok tad simplistic comingout story gay man positive usually quitesopositive again fiction  entertaining rompone thing noticed insidejoke aspect since targetaudience probably straight may get gay stuff context story kevin kline showed facet acting prowess screenwriters sometimes take consideration suggesting kline partthis one hit mark\n"
     ]
    }
   ],
   "source": [
    "df['review'] = df.review.str.replace(r'\\d+', r'', regex=True)\n",
    "\n",
    "print_random_review()                                           #remove digits"
   ]
  },
  {
   "cell_type": "code",
   "execution_count": 41,
   "id": "b5d7b4b3-7883-4ecf-85e6-57cb0d8e4afe",
   "metadata": {
    "tags": []
   },
   "outputs": [
    {
     "name": "stderr",
     "output_type": "stream",
     "text": [
      "[nltk_data] Downloading package wordnet to\n",
      "[nltk_data]     C:\\Users\\1\\AppData\\Roaming\\nltk_data...\n",
      "[nltk_data]   Package wordnet is already up-to-date!\n"
     ]
    },
    {
     "data": {
      "text/plain": [
       "True"
      ]
     },
     "execution_count": 41,
     "metadata": {},
     "output_type": "execute_result"
    }
   ],
   "source": [
    "from textblob import Word\n",
    "\n",
    "nltk.download('wordnet')"
   ]
  },
  {
   "cell_type": "code",
   "execution_count": 42,
   "id": "f116b4e6-c620-4541-856f-171ef9f1f558",
   "metadata": {
    "tags": []
   },
   "outputs": [],
   "source": [
    "def lemmatize_words(text: str) -> str:\n",
    "    words = [Word(word).lemmatize() for word in text.split()]\n",
    "    return \" \".join(words)"
   ]
  },
  {
   "cell_type": "code",
   "execution_count": 43,
   "id": "bc1990fa-a905-4e69-9bbb-ed841f87dd21",
   "metadata": {
    "tags": []
   },
   "outputs": [
    {
     "name": "stdout",
     "output_type": "stream",
     "text": [
      "joan cusack steal show premise good plot line interesting screenplay ok tad simplistic comingout story gay man positive usually quitesopositive again fiction entertaining rompone thing noticed insidejoke aspect since targetaudience probably straight may get gay stuff context story kevin kline showed facet acting prowess screenwriter sometimes take consideration suggesting kline partthis one hit mark\n"
     ]
    }
   ],
   "source": [
    "df['review'] = df.review.apply(lemmatize_words)\n",
    "\n",
    "print_random_review()"
   ]
  },
  {
   "cell_type": "code",
   "execution_count": 44,
   "id": "fdc1f940-b71a-4ff7-aef1-dc9cbe96f955",
   "metadata": {
    "tags": []
   },
   "outputs": [],
   "source": [
    "def tokenize(text):\n",
    "    return word_tokenize(text) #tokenization function"
   ]
  },
  {
   "cell_type": "code",
   "execution_count": 45,
   "id": "fa9599d2-b2f7-4c03-9de8-f025e779b1e3",
   "metadata": {
    "tags": []
   },
   "outputs": [],
   "source": [
    "df['review'] = df.review.apply(tokenize)"
   ]
  },
  {
   "cell_type": "code",
   "execution_count": 46,
   "id": "dcab43d4-d47c-4b11-8735-b225bc90035a",
   "metadata": {
    "tags": []
   },
   "outputs": [
    {
     "name": "stdout",
     "output_type": "stream",
     "text": [
      "['joan', 'cusack', 'steal', 'show', 'premise', 'good', 'plot', 'line', 'interesting', 'screenplay', 'ok', 'tad', 'simplistic', 'comingout', 'story', 'gay', 'man', 'positive', 'usually', 'quitesopositive', 'again', 'fiction', 'entertaining', 'rompone', 'thing', 'noticed', 'insidejoke', 'aspect', 'since', 'targetaudience', 'probably', 'straight', 'may', 'get', 'gay', 'stuff', 'context', 'story', 'kevin', 'kline', 'showed', 'facet', 'acting', 'prowess', 'screenwriter', 'sometimes', 'take', 'consideration', 'suggesting', 'kline', 'partthis', 'one', 'hit', 'mark']\n"
     ]
    }
   ],
   "source": [
    "print_random_review()"
   ]
  },
  {
   "cell_type": "markdown",
   "id": "63b7fd84-b4ee-4ad4-a45a-8a96c3c72dc0",
   "metadata": {},
   "source": [
    "4.Model Development"
   ]
  },
  {
   "cell_type": "code",
   "execution_count": 47,
   "id": "b7b97541-2ee3-4ae2-a6ef-3b08f1ed87a3",
   "metadata": {
    "tags": []
   },
   "outputs": [],
   "source": [
    "df['review'] = df['review'].apply(lambda x: ' '.join(map(str, x))) #convert list to strings"
   ]
  },
  {
   "cell_type": "code",
   "execution_count": 48,
   "id": "0f8ceb89-da64-41fb-9cf2-ec70c758fe99",
   "metadata": {
    "tags": []
   },
   "outputs": [
    {
     "name": "stdout",
     "output_type": "stream",
     "text": [
      "joan cusack steal show premise good plot line interesting screenplay ok tad simplistic comingout story gay man positive usually quitesopositive again fiction entertaining rompone thing noticed insidejoke aspect since targetaudience probably straight may get gay stuff context story kevin kline showed facet acting prowess screenwriter sometimes take consideration suggesting kline partthis one hit mark\n"
     ]
    }
   ],
   "source": [
    "print_random_review()"
   ]
  },
  {
   "cell_type": "code",
   "execution_count": 61,
   "id": "2ae6dd16-f717-4bde-9cda-a721e0389bef",
   "metadata": {
    "tags": []
   },
   "outputs": [],
   "source": [
    "from sklearn.feature_extraction.text import TfidfVectorizer\n",
    "from sklearn.linear_model import LogisticRegression\n",
    "from sklearn.metrics import accuracy_score, classification_report\n"
   ]
  },
  {
   "cell_type": "code",
   "execution_count": 63,
   "id": "1a1ebb77-512f-43af-b65a-461fab3687f3",
   "metadata": {
    "tags": []
   },
   "outputs": [],
   "source": [
    "tfidf_vectorizer = TfidfVectorizer(max_features=5000)  # Limit to 5000 features\n",
    "X = tfidf_vectorizer.fit_transform(df['review'])        # Feature Extraction using TF-IDF\n",
    "y = df['sentiment']"
   ]
  },
  {
   "cell_type": "code",
   "execution_count": 64,
   "id": "6706d901-d866-4d3e-918c-5142cbe700ad",
   "metadata": {
    "tags": []
   },
   "outputs": [],
   "source": [
    "X_train, X_test, y_train, y_test = train_test_split(X, y, test_size=0.2, random_state=42)"
   ]
  },
  {
   "cell_type": "code",
   "execution_count": 65,
   "id": "0c6b0a66-3e0d-4f91-81ae-00130875f55b",
   "metadata": {
    "tags": []
   },
   "outputs": [],
   "source": [
    "classifier = LogisticRegression(max_iter=1000) #Logistic Regression"
   ]
  },
  {
   "cell_type": "code",
   "execution_count": 66,
   "id": "0226d216-8c77-4fb8-99a9-eaebcc58d2c0",
   "metadata": {
    "tags": []
   },
   "outputs": [
    {
     "data": {
      "text/html": [
       "<style>#sk-container-id-1 {color: black;background-color: white;}#sk-container-id-1 pre{padding: 0;}#sk-container-id-1 div.sk-toggleable {background-color: white;}#sk-container-id-1 label.sk-toggleable__label {cursor: pointer;display: block;width: 100%;margin-bottom: 0;padding: 0.3em;box-sizing: border-box;text-align: center;}#sk-container-id-1 label.sk-toggleable__label-arrow:before {content: \"▸\";float: left;margin-right: 0.25em;color: #696969;}#sk-container-id-1 label.sk-toggleable__label-arrow:hover:before {color: black;}#sk-container-id-1 div.sk-estimator:hover label.sk-toggleable__label-arrow:before {color: black;}#sk-container-id-1 div.sk-toggleable__content {max-height: 0;max-width: 0;overflow: hidden;text-align: left;background-color: #f0f8ff;}#sk-container-id-1 div.sk-toggleable__content pre {margin: 0.2em;color: black;border-radius: 0.25em;background-color: #f0f8ff;}#sk-container-id-1 input.sk-toggleable__control:checked~div.sk-toggleable__content {max-height: 200px;max-width: 100%;overflow: auto;}#sk-container-id-1 input.sk-toggleable__control:checked~label.sk-toggleable__label-arrow:before {content: \"▾\";}#sk-container-id-1 div.sk-estimator input.sk-toggleable__control:checked~label.sk-toggleable__label {background-color: #d4ebff;}#sk-container-id-1 div.sk-label input.sk-toggleable__control:checked~label.sk-toggleable__label {background-color: #d4ebff;}#sk-container-id-1 input.sk-hidden--visually {border: 0;clip: rect(1px 1px 1px 1px);clip: rect(1px, 1px, 1px, 1px);height: 1px;margin: -1px;overflow: hidden;padding: 0;position: absolute;width: 1px;}#sk-container-id-1 div.sk-estimator {font-family: monospace;background-color: #f0f8ff;border: 1px dotted black;border-radius: 0.25em;box-sizing: border-box;margin-bottom: 0.5em;}#sk-container-id-1 div.sk-estimator:hover {background-color: #d4ebff;}#sk-container-id-1 div.sk-parallel-item::after {content: \"\";width: 100%;border-bottom: 1px solid gray;flex-grow: 1;}#sk-container-id-1 div.sk-label:hover label.sk-toggleable__label {background-color: #d4ebff;}#sk-container-id-1 div.sk-serial::before {content: \"\";position: absolute;border-left: 1px solid gray;box-sizing: border-box;top: 0;bottom: 0;left: 50%;z-index: 0;}#sk-container-id-1 div.sk-serial {display: flex;flex-direction: column;align-items: center;background-color: white;padding-right: 0.2em;padding-left: 0.2em;position: relative;}#sk-container-id-1 div.sk-item {position: relative;z-index: 1;}#sk-container-id-1 div.sk-parallel {display: flex;align-items: stretch;justify-content: center;background-color: white;position: relative;}#sk-container-id-1 div.sk-item::before, #sk-container-id-1 div.sk-parallel-item::before {content: \"\";position: absolute;border-left: 1px solid gray;box-sizing: border-box;top: 0;bottom: 0;left: 50%;z-index: -1;}#sk-container-id-1 div.sk-parallel-item {display: flex;flex-direction: column;z-index: 1;position: relative;background-color: white;}#sk-container-id-1 div.sk-parallel-item:first-child::after {align-self: flex-end;width: 50%;}#sk-container-id-1 div.sk-parallel-item:last-child::after {align-self: flex-start;width: 50%;}#sk-container-id-1 div.sk-parallel-item:only-child::after {width: 0;}#sk-container-id-1 div.sk-dashed-wrapped {border: 1px dashed gray;margin: 0 0.4em 0.5em 0.4em;box-sizing: border-box;padding-bottom: 0.4em;background-color: white;}#sk-container-id-1 div.sk-label label {font-family: monospace;font-weight: bold;display: inline-block;line-height: 1.2em;}#sk-container-id-1 div.sk-label-container {text-align: center;}#sk-container-id-1 div.sk-container {/* jupyter's `normalize.less` sets `[hidden] { display: none; }` but bootstrap.min.css set `[hidden] { display: none !important; }` so we also need the `!important` here to be able to override the default hidden behavior on the sphinx rendered scikit-learn.org. See: https://github.com/scikit-learn/scikit-learn/issues/21755 */display: inline-block !important;position: relative;}#sk-container-id-1 div.sk-text-repr-fallback {display: none;}</style><div id=\"sk-container-id-1\" class=\"sk-top-container\"><div class=\"sk-text-repr-fallback\"><pre>LogisticRegression(max_iter=1000)</pre><b>In a Jupyter environment, please rerun this cell to show the HTML representation or trust the notebook. <br />On GitHub, the HTML representation is unable to render, please try loading this page with nbviewer.org.</b></div><div class=\"sk-container\" hidden><div class=\"sk-item\"><div class=\"sk-estimator sk-toggleable\"><input class=\"sk-toggleable__control sk-hidden--visually\" id=\"sk-estimator-id-1\" type=\"checkbox\" checked><label for=\"sk-estimator-id-1\" class=\"sk-toggleable__label sk-toggleable__label-arrow\">LogisticRegression</label><div class=\"sk-toggleable__content\"><pre>LogisticRegression(max_iter=1000)</pre></div></div></div></div></div>"
      ],
      "text/plain": [
       "LogisticRegression(max_iter=1000)"
      ]
     },
     "execution_count": 66,
     "metadata": {},
     "output_type": "execute_result"
    }
   ],
   "source": [
    "classifier.fit(X_train, y_train) # Train Model"
   ]
  },
  {
   "cell_type": "code",
   "execution_count": 67,
   "id": "c7c5db48-18f1-42d8-8369-177c7f2776d6",
   "metadata": {
    "tags": []
   },
   "outputs": [
    {
     "name": "stdout",
     "output_type": "stream",
     "text": [
      "Accuracy: 0.8822224463043259\n",
      "Classification Report:\n",
      "              precision    recall  f1-score   support\n",
      "\n",
      "           0       0.89      0.87      0.88      4939\n",
      "           1       0.87      0.89      0.88      4978\n",
      "\n",
      "    accuracy                           0.88      9917\n",
      "   macro avg       0.88      0.88      0.88      9917\n",
      "weighted avg       0.88      0.88      0.88      9917\n",
      "\n"
     ]
    }
   ],
   "source": [
    "y_pred = classifier.predict(X_test)\n",
    "accuracy = accuracy_score(y_test, y_pred)\n",
    "print(\"Accuracy:\", accuracy)                             #MODEL EVALUATION PARAMETERS\n",
    "print(\"Classification Report:\")\n",
    "print(classification_report(y_test, y_pred))"
   ]
  },
  {
   "cell_type": "code",
   "execution_count": null,
   "id": "6654944a-5aa7-476c-a089-8bb076ff3b5a",
   "metadata": {},
   "outputs": [],
   "source": []
  }
 ],
 "metadata": {
  "kernelspec": {
   "display_name": "Python 3 (ipykernel)",
   "language": "python",
   "name": "python3"
  },
  "language_info": {
   "codemirror_mode": {
    "name": "ipython",
    "version": 3
   },
   "file_extension": ".py",
   "mimetype": "text/x-python",
   "name": "python",
   "nbconvert_exporter": "python",
   "pygments_lexer": "ipython3",
   "version": "3.10.10"
  }
 },
 "nbformat": 4,
 "nbformat_minor": 5
}
