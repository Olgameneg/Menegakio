{
 "cells": [
  {
   "cell_type": "markdown",
   "id": "cf11c188-54db-4488-bb26-ee309119fb69",
   "metadata": {},
   "source": [
    "1. IMPORT LIBRARIES"
   ]
  },
  {
   "cell_type": "code",
   "execution_count": 1,
   "id": "aae76165-e3a7-4134-abe1-f21f75438efd",
   "metadata": {
    "tags": []
   },
   "outputs": [],
   "source": [
    "import pandas as pd #data processing \n",
    "import numpy as np #numerical computing \n",
    "from numpy import array\n",
    "import re #string manipulation \n",
    "\n"
   ]
  },
  {
   "cell_type": "code",
   "execution_count": 2,
   "id": "146f7f6c-60b1-428f-b92c-4b08ac4fd35f",
   "metadata": {
    "tags": []
   },
   "outputs": [
    {
     "name": "stdout",
     "output_type": "stream",
     "text": [
      "Requirement already satisfied: nltk in c:\\users\\1\\uoa_py_course\\course_venv\\lib\\site-packages (3.8.1)\n",
      "Requirement already satisfied: joblib in c:\\users\\1\\uoa_py_course\\course_venv\\lib\\site-packages (from nltk) (1.2.0)\n",
      "Requirement already satisfied: tqdm in c:\\users\\1\\uoa_py_course\\course_venv\\lib\\site-packages (from nltk) (4.66.2)\n",
      "Requirement already satisfied: click in c:\\users\\1\\uoa_py_course\\course_venv\\lib\\site-packages (from nltk) (8.1.7)\n",
      "Requirement already satisfied: regex>=2021.8.3 in c:\\users\\1\\uoa_py_course\\course_venv\\lib\\site-packages (from nltk) (2023.12.25)\n",
      "Requirement already satisfied: colorama in c:\\users\\1\\uoa_py_course\\course_venv\\lib\\site-packages (from click->nltk) (0.4.6)\n"
     ]
    },
    {
     "name": "stderr",
     "output_type": "stream",
     "text": [
      "\n",
      "[notice] A new release of pip is available: 23.0.1 -> 24.0\n",
      "[notice] To update, run: python.exe -m pip install --upgrade pip\n"
     ]
    }
   ],
   "source": [
    "!pip install nltk\n"
   ]
  },
  {
   "cell_type": "code",
   "execution_count": 3,
   "id": "1abb7b6d-07f7-43e8-931a-85b9a91a07f3",
   "metadata": {
    "tags": []
   },
   "outputs": [],
   "source": [
    "import nltk #NlP \n",
    "from nltk.corpus import stopwords # a list of common stopwords\n",
    "from nltk.tokenize import word_tokenize\n"
   ]
  },
  {
   "cell_type": "code",
   "execution_count": 51,
   "id": "e7f8e282-f0c7-4111-a510-58bdcd5e28e8",
   "metadata": {
    "tags": []
   },
   "outputs": [],
   "source": [
    "import string"
   ]
  },
  {
   "cell_type": "code",
   "execution_count": 4,
   "id": "5d359399-2d89-4140-a1c4-0def9a73b12c",
   "metadata": {
    "tags": []
   },
   "outputs": [
    {
     "name": "stdout",
     "output_type": "stream",
     "text": [
      "Requirement already satisfied: tensorflow in c:\\users\\1\\uoa_py_course\\course_venv\\lib\\site-packages (2.15.0)\n",
      "Requirement already satisfied: tensorflow-intel==2.15.0 in c:\\users\\1\\uoa_py_course\\course_venv\\lib\\site-packages (from tensorflow) (2.15.0)\n",
      "Requirement already satisfied: keras<2.16,>=2.15.0 in c:\\users\\1\\uoa_py_course\\course_venv\\lib\\site-packages (from tensorflow-intel==2.15.0->tensorflow) (2.15.0)\n",
      "Requirement already satisfied: wrapt<1.15,>=1.11.0 in c:\\users\\1\\uoa_py_course\\course_venv\\lib\\site-packages (from tensorflow-intel==2.15.0->tensorflow) (1.14.1)\n",
      "Requirement already satisfied: tensorflow-io-gcs-filesystem>=0.23.1 in c:\\users\\1\\uoa_py_course\\course_venv\\lib\\site-packages (from tensorflow-intel==2.15.0->tensorflow) (0.31.0)\n",
      "Requirement already satisfied: protobuf!=4.21.0,!=4.21.1,!=4.21.2,!=4.21.3,!=4.21.4,!=4.21.5,<5.0.0dev,>=3.20.3 in c:\\users\\1\\uoa_py_course\\course_venv\\lib\\site-packages (from tensorflow-intel==2.15.0->tensorflow) (4.25.2)\n",
      "Requirement already satisfied: opt-einsum>=2.3.2 in c:\\users\\1\\uoa_py_course\\course_venv\\lib\\site-packages (from tensorflow-intel==2.15.0->tensorflow) (3.3.0)\n",
      "Requirement already satisfied: grpcio<2.0,>=1.24.3 in c:\\users\\1\\uoa_py_course\\course_venv\\lib\\site-packages (from tensorflow-intel==2.15.0->tensorflow) (1.60.1)\n",
      "Requirement already satisfied: absl-py>=1.0.0 in c:\\users\\1\\uoa_py_course\\course_venv\\lib\\site-packages (from tensorflow-intel==2.15.0->tensorflow) (2.1.0)\n",
      "Requirement already satisfied: tensorboard<2.16,>=2.15 in c:\\users\\1\\uoa_py_course\\course_venv\\lib\\site-packages (from tensorflow-intel==2.15.0->tensorflow) (2.15.2)\n",
      "Requirement already satisfied: six>=1.12.0 in c:\\users\\1\\uoa_py_course\\course_venv\\lib\\site-packages (from tensorflow-intel==2.15.0->tensorflow) (1.16.0)\n",
      "Requirement already satisfied: typing-extensions>=3.6.6 in c:\\users\\1\\uoa_py_course\\course_venv\\lib\\site-packages (from tensorflow-intel==2.15.0->tensorflow) (4.9.0)\n",
      "Requirement already satisfied: google-pasta>=0.1.1 in c:\\users\\1\\uoa_py_course\\course_venv\\lib\\site-packages (from tensorflow-intel==2.15.0->tensorflow) (0.2.0)\n",
      "Requirement already satisfied: gast!=0.5.0,!=0.5.1,!=0.5.2,>=0.2.1 in c:\\users\\1\\uoa_py_course\\course_venv\\lib\\site-packages (from tensorflow-intel==2.15.0->tensorflow) (0.5.4)\n",
      "Requirement already satisfied: packaging in c:\\users\\1\\uoa_py_course\\course_venv\\lib\\site-packages (from tensorflow-intel==2.15.0->tensorflow) (23.0)\n",
      "Requirement already satisfied: flatbuffers>=23.5.26 in c:\\users\\1\\uoa_py_course\\course_venv\\lib\\site-packages (from tensorflow-intel==2.15.0->tensorflow) (23.5.26)\n",
      "Requirement already satisfied: tensorflow-estimator<2.16,>=2.15.0 in c:\\users\\1\\uoa_py_course\\course_venv\\lib\\site-packages (from tensorflow-intel==2.15.0->tensorflow) (2.15.0)\n",
      "Requirement already satisfied: setuptools in c:\\users\\1\\uoa_py_course\\course_venv\\lib\\site-packages (from tensorflow-intel==2.15.0->tensorflow) (67.6.1)\n",
      "Requirement already satisfied: termcolor>=1.1.0 in c:\\users\\1\\uoa_py_course\\course_venv\\lib\\site-packages (from tensorflow-intel==2.15.0->tensorflow) (2.4.0)\n",
      "Requirement already satisfied: numpy<2.0.0,>=1.23.5 in c:\\users\\1\\uoa_py_course\\course_venv\\lib\\site-packages (from tensorflow-intel==2.15.0->tensorflow) (1.24.2)\n",
      "Requirement already satisfied: astunparse>=1.6.0 in c:\\users\\1\\uoa_py_course\\course_venv\\lib\\site-packages (from tensorflow-intel==2.15.0->tensorflow) (1.6.3)\n",
      "Requirement already satisfied: libclang>=13.0.0 in c:\\users\\1\\uoa_py_course\\course_venv\\lib\\site-packages (from tensorflow-intel==2.15.0->tensorflow) (16.0.6)\n",
      "Requirement already satisfied: ml-dtypes~=0.2.0 in c:\\users\\1\\uoa_py_course\\course_venv\\lib\\site-packages (from tensorflow-intel==2.15.0->tensorflow) (0.2.0)\n",
      "Requirement already satisfied: h5py>=2.9.0 in c:\\users\\1\\uoa_py_course\\course_venv\\lib\\site-packages (from tensorflow-intel==2.15.0->tensorflow) (3.10.0)\n",
      "Requirement already satisfied: wheel<1.0,>=0.23.0 in c:\\users\\1\\uoa_py_course\\course_venv\\lib\\site-packages (from astunparse>=1.6.0->tensorflow-intel==2.15.0->tensorflow) (0.40.0)\n",
      "Requirement already satisfied: google-auth-oauthlib<2,>=0.5 in c:\\users\\1\\uoa_py_course\\course_venv\\lib\\site-packages (from tensorboard<2.16,>=2.15->tensorflow-intel==2.15.0->tensorflow) (1.2.0)\n",
      "Requirement already satisfied: google-auth<3,>=1.6.3 in c:\\users\\1\\uoa_py_course\\course_venv\\lib\\site-packages (from tensorboard<2.16,>=2.15->tensorflow-intel==2.15.0->tensorflow) (2.27.0)\n",
      "Requirement already satisfied: requests<3,>=2.21.0 in c:\\users\\1\\uoa_py_course\\course_venv\\lib\\site-packages (from tensorboard<2.16,>=2.15->tensorflow-intel==2.15.0->tensorflow) (2.28.2)\n",
      "Requirement already satisfied: markdown>=2.6.8 in c:\\users\\1\\uoa_py_course\\course_venv\\lib\\site-packages (from tensorboard<2.16,>=2.15->tensorflow-intel==2.15.0->tensorflow) (3.5.2)\n",
      "Requirement already satisfied: werkzeug>=1.0.1 in c:\\users\\1\\uoa_py_course\\course_venv\\lib\\site-packages (from tensorboard<2.16,>=2.15->tensorflow-intel==2.15.0->tensorflow) (3.0.1)\n",
      "Requirement already satisfied: tensorboard-data-server<0.8.0,>=0.7.0 in c:\\users\\1\\uoa_py_course\\course_venv\\lib\\site-packages (from tensorboard<2.16,>=2.15->tensorflow-intel==2.15.0->tensorflow) (0.7.2)\n",
      "Requirement already satisfied: cachetools<6.0,>=2.0.0 in c:\\users\\1\\uoa_py_course\\course_venv\\lib\\site-packages (from google-auth<3,>=1.6.3->tensorboard<2.16,>=2.15->tensorflow-intel==2.15.0->tensorflow) (5.3.2)\n",
      "Requirement already satisfied: pyasn1-modules>=0.2.1 in c:\\users\\1\\uoa_py_course\\course_venv\\lib\\site-packages (from google-auth<3,>=1.6.3->tensorboard<2.16,>=2.15->tensorflow-intel==2.15.0->tensorflow) (0.3.0)\n",
      "Requirement already satisfied: rsa<5,>=3.1.4 in c:\\users\\1\\uoa_py_course\\course_venv\\lib\\site-packages (from google-auth<3,>=1.6.3->tensorboard<2.16,>=2.15->tensorflow-intel==2.15.0->tensorflow) (4.9)\n",
      "Requirement already satisfied: requests-oauthlib>=0.7.0 in c:\\users\\1\\uoa_py_course\\course_venv\\lib\\site-packages (from google-auth-oauthlib<2,>=0.5->tensorboard<2.16,>=2.15->tensorflow-intel==2.15.0->tensorflow) (1.3.1)\n",
      "Requirement already satisfied: idna<4,>=2.5 in c:\\users\\1\\uoa_py_course\\course_venv\\lib\\site-packages (from requests<3,>=2.21.0->tensorboard<2.16,>=2.15->tensorflow-intel==2.15.0->tensorflow) (3.4)\n",
      "Requirement already satisfied: charset-normalizer<4,>=2 in c:\\users\\1\\uoa_py_course\\course_venv\\lib\\site-packages (from requests<3,>=2.21.0->tensorboard<2.16,>=2.15->tensorflow-intel==2.15.0->tensorflow) (3.1.0)\n",
      "Requirement already satisfied: urllib3<1.27,>=1.21.1 in c:\\users\\1\\uoa_py_course\\course_venv\\lib\\site-packages (from requests<3,>=2.21.0->tensorboard<2.16,>=2.15->tensorflow-intel==2.15.0->tensorflow) (1.26.15)\n",
      "Requirement already satisfied: certifi>=2017.4.17 in c:\\users\\1\\uoa_py_course\\course_venv\\lib\\site-packages (from requests<3,>=2.21.0->tensorboard<2.16,>=2.15->tensorflow-intel==2.15.0->tensorflow) (2022.12.7)\n",
      "Requirement already satisfied: MarkupSafe>=2.1.1 in c:\\users\\1\\uoa_py_course\\course_venv\\lib\\site-packages (from werkzeug>=1.0.1->tensorboard<2.16,>=2.15->tensorflow-intel==2.15.0->tensorflow) (2.1.2)\n",
      "Requirement already satisfied: pyasn1<0.6.0,>=0.4.6 in c:\\users\\1\\uoa_py_course\\course_venv\\lib\\site-packages (from pyasn1-modules>=0.2.1->google-auth<3,>=1.6.3->tensorboard<2.16,>=2.15->tensorflow-intel==2.15.0->tensorflow) (0.5.1)\n",
      "Requirement already satisfied: oauthlib>=3.0.0 in c:\\users\\1\\uoa_py_course\\course_venv\\lib\\site-packages (from requests-oauthlib>=0.7.0->google-auth-oauthlib<2,>=0.5->tensorboard<2.16,>=2.15->tensorflow-intel==2.15.0->tensorflow) (3.2.2)\n"
     ]
    },
    {
     "name": "stderr",
     "output_type": "stream",
     "text": [
      "\n",
      "[notice] A new release of pip is available: 23.0.1 -> 24.0\n",
      "[notice] To update, run: python.exe -m pip install --upgrade pip\n"
     ]
    }
   ],
   "source": [
    "!pip install tensorflow"
   ]
  },
  {
   "cell_type": "code",
   "execution_count": 5,
   "id": "8133dd0b-acf6-4796-970b-5ab1c41a5331",
   "metadata": {
    "tags": []
   },
   "outputs": [
    {
     "name": "stdout",
     "output_type": "stream",
     "text": [
      "WARNING:tensorflow:From C:\\Users\\1\\uoa_py_course\\course_venv\\lib\\site-packages\\keras\\src\\losses.py:2976: The name tf.losses.sparse_softmax_cross_entropy is deprecated. Please use tf.compat.v1.losses.sparse_softmax_cross_entropy instead.\n",
      "\n"
     ]
    }
   ],
   "source": [
    "import tensorflow as tf #deploying artificial neural networks"
   ]
  },
  {
   "cell_type": "code",
   "execution_count": 6,
   "id": "cf6106c8-7e21-4656-b9cf-2bdbcc986bd4",
   "metadata": {
    "tags": []
   },
   "outputs": [],
   "source": [
    "import matplotlib.pyplot as plt #plots and visualizations"
   ]
  },
  {
   "cell_type": "code",
   "execution_count": 7,
   "id": "ced36059-7e02-4645-bc6b-67e84b865a91",
   "metadata": {
    "tags": []
   },
   "outputs": [],
   "source": [
    "from keras.preprocessing.text import one_hot, Tokenizer #one_hot function to convert text data into binary matrix representation where each word is a unique index\n",
    "                                                        #tokenizer class for indexing words in a text corpus\n",
    "from keras.models import Sequential #feedforward neural networks\n",
    "from keras.layers import Activation, Dropout, Dense # Activation function to the output of the previous layer \n",
    "                                                    #Dropout layer for prevent overfitting\n",
    "                                                 # Dense layer means each neuron in the layer is connected to every neuron in the previous and next layer.fully connected\n",
    "from tensorflow.keras.layers import LSTM, SimpleRNN, Embedding  #LSTM layer is a type of recurrent layer that is capable of learning long-term dependencies in sequential data\n",
    "                                                                #SimpleRNN is  a basic recurrent layer that can capture short-term dependencies in sequential data.\n",
    "                                                                #Embedding layer for converting integer indices representing words into dense vectors of fixed size. \n",
    "      "
   ]
  },
  {
   "cell_type": "code",
   "execution_count": 8,
   "id": "f24eb14f-6953-4bec-ae0c-eec86a53bc19",
   "metadata": {},
   "outputs": [],
   "source": [
    "from sklearn.model_selection import train_test_split  #split dataset into training and testing data \n"
   ]
  },
  {
   "cell_type": "code",
   "execution_count": 9,
   "id": "246cc7c4-b3bf-47eb-a4c4-4caf78832f4c",
   "metadata": {},
   "outputs": [],
   "source": [
    "from keras.preprocessing.sequence import pad_sequences #pad_sequences is used to ensure that all sequences have the same length by padding shorter sequences with zeros."
   ]
  },
  {
   "cell_type": "markdown",
   "id": "52b304c4-4142-4910-94ed-0247db0bb84e",
   "metadata": {},
   "source": [
    "2.LOAD DATA "
   ]
  },
  {
   "cell_type": "code",
   "execution_count": 10,
   "id": "8d207034-06bb-4c55-b38c-00b0f4e0d6d2",
   "metadata": {
    "tags": []
   },
   "outputs": [],
   "source": [
    "df=pd.read_csv ('IMDB Dataset.csv')\n"
   ]
  },
  {
   "cell_type": "code",
   "execution_count": 11,
   "id": "fc25e7f1-e45f-4f84-936f-8bb7f883896a",
   "metadata": {
    "tags": []
   },
   "outputs": [
    {
     "data": {
      "text/html": [
       "<div>\n",
       "<style scoped>\n",
       "    .dataframe tbody tr th:only-of-type {\n",
       "        vertical-align: middle;\n",
       "    }\n",
       "\n",
       "    .dataframe tbody tr th {\n",
       "        vertical-align: top;\n",
       "    }\n",
       "\n",
       "    .dataframe thead th {\n",
       "        text-align: right;\n",
       "    }\n",
       "</style>\n",
       "<table border=\"1\" class=\"dataframe\">\n",
       "  <thead>\n",
       "    <tr style=\"text-align: right;\">\n",
       "      <th></th>\n",
       "      <th>review</th>\n",
       "      <th>sentiment</th>\n",
       "    </tr>\n",
       "  </thead>\n",
       "  <tbody>\n",
       "    <tr>\n",
       "      <th>0</th>\n",
       "      <td>One of the other reviewers has mentioned that ...</td>\n",
       "      <td>positive</td>\n",
       "    </tr>\n",
       "    <tr>\n",
       "      <th>1</th>\n",
       "      <td>A wonderful little production. &lt;br /&gt;&lt;br /&gt;The...</td>\n",
       "      <td>positive</td>\n",
       "    </tr>\n",
       "    <tr>\n",
       "      <th>2</th>\n",
       "      <td>I thought this was a wonderful way to spend ti...</td>\n",
       "      <td>positive</td>\n",
       "    </tr>\n",
       "    <tr>\n",
       "      <th>3</th>\n",
       "      <td>Basically there's a family where a little boy ...</td>\n",
       "      <td>negative</td>\n",
       "    </tr>\n",
       "    <tr>\n",
       "      <th>4</th>\n",
       "      <td>Petter Mattei's \"Love in the Time of Money\" is...</td>\n",
       "      <td>positive</td>\n",
       "    </tr>\n",
       "    <tr>\n",
       "      <th>...</th>\n",
       "      <td>...</td>\n",
       "      <td>...</td>\n",
       "    </tr>\n",
       "    <tr>\n",
       "      <th>49995</th>\n",
       "      <td>I thought this movie did a down right good job...</td>\n",
       "      <td>positive</td>\n",
       "    </tr>\n",
       "    <tr>\n",
       "      <th>49996</th>\n",
       "      <td>Bad plot, bad dialogue, bad acting, idiotic di...</td>\n",
       "      <td>negative</td>\n",
       "    </tr>\n",
       "    <tr>\n",
       "      <th>49997</th>\n",
       "      <td>I am a Catholic taught in parochial elementary...</td>\n",
       "      <td>negative</td>\n",
       "    </tr>\n",
       "    <tr>\n",
       "      <th>49998</th>\n",
       "      <td>I'm going to have to disagree with the previou...</td>\n",
       "      <td>negative</td>\n",
       "    </tr>\n",
       "    <tr>\n",
       "      <th>49999</th>\n",
       "      <td>No one expects the Star Trek movies to be high...</td>\n",
       "      <td>negative</td>\n",
       "    </tr>\n",
       "  </tbody>\n",
       "</table>\n",
       "<p>50000 rows × 2 columns</p>\n",
       "</div>"
      ],
      "text/plain": [
       "                                                  review sentiment\n",
       "0      One of the other reviewers has mentioned that ...  positive\n",
       "1      A wonderful little production. <br /><br />The...  positive\n",
       "2      I thought this was a wonderful way to spend ti...  positive\n",
       "3      Basically there's a family where a little boy ...  negative\n",
       "4      Petter Mattei's \"Love in the Time of Money\" is...  positive\n",
       "...                                                  ...       ...\n",
       "49995  I thought this movie did a down right good job...  positive\n",
       "49996  Bad plot, bad dialogue, bad acting, idiotic di...  negative\n",
       "49997  I am a Catholic taught in parochial elementary...  negative\n",
       "49998  I'm going to have to disagree with the previou...  negative\n",
       "49999  No one expects the Star Trek movies to be high...  negative\n",
       "\n",
       "[50000 rows x 2 columns]"
      ]
     },
     "execution_count": 11,
     "metadata": {},
     "output_type": "execute_result"
    }
   ],
   "source": [
    "df"
   ]
  },
  {
   "cell_type": "code",
   "execution_count": 12,
   "id": "ca446f73-31b8-48cf-b1a4-46657556f404",
   "metadata": {
    "tags": []
   },
   "outputs": [
    {
     "data": {
      "text/plain": [
       "(50000, 2)"
      ]
     },
     "execution_count": 12,
     "metadata": {},
     "output_type": "execute_result"
    }
   ],
   "source": [
    "df.shape   #number of rows and columns"
   ]
  },
  {
   "cell_type": "code",
   "execution_count": 13,
   "id": "715a3370-5ada-473f-a019-a046b4a38a16",
   "metadata": {
    "tags": []
   },
   "outputs": [
    {
     "name": "stdout",
     "output_type": "stream",
     "text": [
      "<class 'pandas.core.frame.DataFrame'>\n",
      "RangeIndex: 50000 entries, 0 to 49999\n",
      "Data columns (total 2 columns):\n",
      " #   Column     Non-Null Count  Dtype \n",
      "---  ------     --------------  ----- \n",
      " 0   review     50000 non-null  object\n",
      " 1   sentiment  50000 non-null  object\n",
      "dtypes: object(2)\n",
      "memory usage: 781.4+ KB\n"
     ]
    }
   ],
   "source": [
    "df.info() # 2 columns object data type "
   ]
  },
  {
   "cell_type": "code",
   "execution_count": 14,
   "id": "446df62d-b591-48fc-97a5-0e11dfe80d37",
   "metadata": {},
   "outputs": [
    {
     "name": "stdout",
     "output_type": "stream",
     "text": [
      "Any missing value? False\n"
     ]
    }
   ],
   "source": [
    "print (\"Any missing value?\", df.isnull().values.any()) #check for missing values "
   ]
  },
  {
   "cell_type": "code",
   "execution_count": 15,
   "id": "99dd5739-dc46-4a7d-bba0-b349d96724b6",
   "metadata": {
    "tags": []
   },
   "outputs": [],
   "source": [
    "dup_df= df.duplicated ().any "
   ]
  },
  {
   "cell_type": "code",
   "execution_count": 16,
   "id": "88ebb19e-2800-46cb-8b61-4ee67caa6fd4",
   "metadata": {
    "tags": []
   },
   "outputs": [
    {
     "name": "stdout",
     "output_type": "stream",
     "text": [
      "Are they any duplicated values? <bound method NDFrame._add_numeric_operations.<locals>.any of 0        False\n",
      "1        False\n",
      "2        False\n",
      "3        False\n",
      "4        False\n",
      "         ...  \n",
      "49995    False\n",
      "49996    False\n",
      "49997    False\n",
      "49998    False\n",
      "49999    False\n",
      "Length: 50000, dtype: bool>\n"
     ]
    }
   ],
   "source": [
    "print (\"Are they any duplicated values?\", dup_df)"
   ]
  },
  {
   "cell_type": "code",
   "execution_count": 17,
   "id": "e4ab698d-e9ec-49e5-bf21-4ebaeb79bca5",
   "metadata": {
    "tags": []
   },
   "outputs": [
    {
     "data": {
      "text/html": [
       "<div>\n",
       "<style scoped>\n",
       "    .dataframe tbody tr th:only-of-type {\n",
       "        vertical-align: middle;\n",
       "    }\n",
       "\n",
       "    .dataframe tbody tr th {\n",
       "        vertical-align: top;\n",
       "    }\n",
       "\n",
       "    .dataframe thead th {\n",
       "        text-align: right;\n",
       "    }\n",
       "</style>\n",
       "<table border=\"1\" class=\"dataframe\">\n",
       "  <thead>\n",
       "    <tr style=\"text-align: right;\">\n",
       "      <th></th>\n",
       "      <th>review</th>\n",
       "      <th>sentiment</th>\n",
       "    </tr>\n",
       "  </thead>\n",
       "  <tbody>\n",
       "    <tr>\n",
       "      <th>count</th>\n",
       "      <td>50000</td>\n",
       "      <td>50000</td>\n",
       "    </tr>\n",
       "    <tr>\n",
       "      <th>unique</th>\n",
       "      <td>49582</td>\n",
       "      <td>2</td>\n",
       "    </tr>\n",
       "    <tr>\n",
       "      <th>top</th>\n",
       "      <td>Loved today's show!!! It was a variety and not...</td>\n",
       "      <td>positive</td>\n",
       "    </tr>\n",
       "    <tr>\n",
       "      <th>freq</th>\n",
       "      <td>5</td>\n",
       "      <td>25000</td>\n",
       "    </tr>\n",
       "  </tbody>\n",
       "</table>\n",
       "</div>"
      ],
      "text/plain": [
       "                                                   review sentiment\n",
       "count                                               50000     50000\n",
       "unique                                              49582         2\n",
       "top     Loved today's show!!! It was a variety and not...  positive\n",
       "freq                                                    5     25000"
      ]
     },
     "execution_count": 17,
     "metadata": {},
     "output_type": "execute_result"
    }
   ],
   "source": [
    "df.describe(include='all') #overall statistics "
   ]
  },
  {
   "cell_type": "code",
   "execution_count": 18,
   "id": "397b446f-a277-47ff-bb0f-83a7e8711d0d",
   "metadata": {
    "tags": []
   },
   "outputs": [
    {
     "data": {
      "text/plain": [
       "\"Okay, so this series kind of takes the route of 'here we go again!' Week in, week out David Morse's character helps out his ride who is in a bit of a pickle - but what's wrong with that!? David Morse is one of the greatest character actors out there, and certainly the coolest, and to have him in a series created by David Koepp - a great writer - is heaven!!<br /><br />Due to the lack of love for this show by many, I can't see it going to a season series - but you never know? The amount of rubbish that has made it beyond that baffles me - let's hope something good can make it past a first series!!!\""
      ]
     },
     "execution_count": 18,
     "metadata": {},
     "output_type": "execute_result"
    }
   ],
   "source": [
    "df['review'][38] #Example of a data point "
   ]
  },
  {
   "cell_type": "code",
   "execution_count": 19,
   "id": "ed861532-646b-4e9f-b106-1e207f41023a",
   "metadata": {
    "tags": []
   },
   "outputs": [
    {
     "data": {
      "text/plain": [
       "'positive'"
      ]
     },
     "execution_count": 19,
     "metadata": {},
     "output_type": "execute_result"
    }
   ],
   "source": [
    "df[\"sentiment\"][38]"
   ]
  },
  {
   "cell_type": "code",
   "execution_count": 20,
   "id": "7bd6affc-178f-4a92-9657-933b97900cbf",
   "metadata": {},
   "outputs": [
    {
     "data": {
      "text/plain": [
       "positive    25000\n",
       "negative    25000\n",
       "Name: sentiment, dtype: int64"
      ]
     },
     "execution_count": 20,
     "metadata": {},
     "output_type": "execute_result"
    }
   ],
   "source": [
    "df[\"sentiment\"].value_counts() #checking for imbalances"
   ]
  },
  {
   "cell_type": "markdown",
   "id": "b4bf7459-546a-4e02-ab9b-430828dc46bf",
   "metadata": {},
   "source": [
    "3.DATA CLEANING AND PREPROCESSING "
   ]
  },
  {
   "cell_type": "code",
   "execution_count": 21,
   "id": "f232fa31-ef6e-4e84-a8b6-0171582a85a0",
   "metadata": {
    "tags": []
   },
   "outputs": [],
   "source": [
    "df['sentiment'].replace({'positive':1,'negative':0},inplace=True) #convert the values in the 'sentiment' column from strings ('positive' and 'negative') to numerical values (1 and 0)"
   ]
  },
  {
   "cell_type": "code",
   "execution_count": 22,
   "id": "d8480564-5f3d-4d66-9625-d4d5fe02a0d1",
   "metadata": {
    "tags": []
   },
   "outputs": [
    {
     "data": {
      "text/html": [
       "<div>\n",
       "<style scoped>\n",
       "    .dataframe tbody tr th:only-of-type {\n",
       "        vertical-align: middle;\n",
       "    }\n",
       "\n",
       "    .dataframe tbody tr th {\n",
       "        vertical-align: top;\n",
       "    }\n",
       "\n",
       "    .dataframe thead th {\n",
       "        text-align: right;\n",
       "    }\n",
       "</style>\n",
       "<table border=\"1\" class=\"dataframe\">\n",
       "  <thead>\n",
       "    <tr style=\"text-align: right;\">\n",
       "      <th></th>\n",
       "      <th>review</th>\n",
       "      <th>sentiment</th>\n",
       "    </tr>\n",
       "  </thead>\n",
       "  <tbody>\n",
       "    <tr>\n",
       "      <th>0</th>\n",
       "      <td>One of the other reviewers has mentioned that ...</td>\n",
       "      <td>1</td>\n",
       "    </tr>\n",
       "    <tr>\n",
       "      <th>1</th>\n",
       "      <td>A wonderful little production. &lt;br /&gt;&lt;br /&gt;The...</td>\n",
       "      <td>1</td>\n",
       "    </tr>\n",
       "    <tr>\n",
       "      <th>2</th>\n",
       "      <td>I thought this was a wonderful way to spend ti...</td>\n",
       "      <td>1</td>\n",
       "    </tr>\n",
       "    <tr>\n",
       "      <th>3</th>\n",
       "      <td>Basically there's a family where a little boy ...</td>\n",
       "      <td>0</td>\n",
       "    </tr>\n",
       "    <tr>\n",
       "      <th>4</th>\n",
       "      <td>Petter Mattei's \"Love in the Time of Money\" is...</td>\n",
       "      <td>1</td>\n",
       "    </tr>\n",
       "  </tbody>\n",
       "</table>\n",
       "</div>"
      ],
      "text/plain": [
       "                                              review  sentiment\n",
       "0  One of the other reviewers has mentioned that ...          1\n",
       "1  A wonderful little production. <br /><br />The...          1\n",
       "2  I thought this was a wonderful way to spend ti...          1\n",
       "3  Basically there's a family where a little boy ...          0\n",
       "4  Petter Mattei's \"Love in the Time of Money\" is...          1"
      ]
     },
     "execution_count": 22,
     "metadata": {},
     "output_type": "execute_result"
    }
   ],
   "source": [
    "df.head()"
   ]
  },
  {
   "cell_type": "code",
   "execution_count": 23,
   "id": "b4e4c8d8-5569-4f59-b942-d53abaa2ddb7",
   "metadata": {
    "tags": []
   },
   "outputs": [
    {
     "name": "stderr",
     "output_type": "stream",
     "text": [
      "[nltk_data] Downloading package stopwords to\n",
      "[nltk_data]     C:\\Users\\1\\AppData\\Roaming\\nltk_data...\n",
      "[nltk_data]   Package stopwords is already up-to-date!\n"
     ]
    },
    {
     "data": {
      "text/plain": [
       "True"
      ]
     },
     "execution_count": 23,
     "metadata": {},
     "output_type": "execute_result"
    }
   ],
   "source": [
    "nltk.download('stopwords')"
   ]
  },
  {
   "cell_type": "code",
   "execution_count": 24,
   "id": "225160d3-3959-463c-b1a3-ecd000e43ed2",
   "metadata": {
    "tags": []
   },
   "outputs": [],
   "source": [
    "stop_words = stopwords.words('english') #Setting English stopwords"
   ]
  },
  {
   "cell_type": "code",
   "execution_count": 25,
   "id": "5fe66b9d-ef09-4cb5-837c-98709e7babab",
   "metadata": {
    "tags": []
   },
   "outputs": [
    {
     "name": "stdout",
     "output_type": "stream",
     "text": [
      "['i', 'me', 'my', 'myself', 'we', 'our', 'ours', 'ourselves', 'you', \"you're\", \"you've\", \"you'll\", \"you'd\", 'your', 'yours', 'yourself', 'yourselves', 'he', 'him', 'his', 'himself', 'she', \"she's\", 'her', 'hers', 'herself', 'it', \"it's\", 'its', 'itself', 'they', 'them', 'their', 'theirs', 'themselves', 'what', 'which', 'who', 'whom', 'this', 'that', \"that'll\", 'these', 'those', 'am', 'is', 'are', 'was', 'were', 'be', 'been', 'being', 'have', 'has', 'had', 'having', 'do', 'does', 'did', 'doing', 'a', 'an', 'the', 'and', 'but', 'if', 'or', 'because', 'as', 'until', 'while', 'of', 'at', 'by', 'for', 'with', 'about', 'against', 'between', 'into', 'through', 'during', 'before', 'after', 'above', 'below', 'to', 'from', 'up', 'down', 'in', 'out', 'on', 'off', 'over', 'under', 'again', 'further', 'then', 'once', 'here', 'there', 'when', 'where', 'why', 'how', 'all', 'any', 'both', 'each', 'few', 'more', 'most', 'other', 'some', 'such', 'no', 'nor', 'not', 'only', 'own', 'same', 'so', 'than', 'too', 'very', 's', 't', 'can', 'will', 'just', 'don', \"don't\", 'should', \"should've\", 'now', 'd', 'll', 'm', 'o', 're', 've', 'y', 'ain', 'aren', \"aren't\", 'couldn', \"couldn't\", 'didn', \"didn't\", 'doesn', \"doesn't\", 'hadn', \"hadn't\", 'hasn', \"hasn't\", 'haven', \"haven't\", 'isn', \"isn't\", 'ma', 'mightn', \"mightn't\", 'mustn', \"mustn't\", 'needn', \"needn't\", 'shan', \"shan't\", 'shouldn', \"shouldn't\", 'wasn', \"wasn't\", 'weren', \"weren't\", 'won', \"won't\", 'wouldn', \"wouldn't\"]\n"
     ]
    }
   ],
   "source": [
    "print(stop_words)"
   ]
  },
  {
   "cell_type": "code",
   "execution_count": 26,
   "id": "622f1900-f004-446c-b251-53a52f628ebd",
   "metadata": {
    "tags": []
   },
   "outputs": [
    {
     "name": "stderr",
     "output_type": "stream",
     "text": [
      "[nltk_data] Downloading package punkt to\n",
      "[nltk_data]     C:\\Users\\1\\AppData\\Roaming\\nltk_data...\n",
      "[nltk_data]   Package punkt is already up-to-date!\n"
     ]
    },
    {
     "data": {
      "text/plain": [
       "True"
      ]
     },
     "execution_count": 26,
     "metadata": {},
     "output_type": "execute_result"
    }
   ],
   "source": [
    "nltk.download('punkt')"
   ]
  },
  {
   "cell_type": "code",
   "execution_count": 27,
   "id": "fdc1f940-b71a-4ff7-aef1-dc9cbe96f955",
   "metadata": {
    "tags": []
   },
   "outputs": [],
   "source": [
    "def tokenize(text):\n",
    "    return word_tokenize(text) #tokenization function"
   ]
  },
  {
   "cell_type": "code",
   "execution_count": 28,
   "id": "7af3437e-2c9e-491d-a8eb-38f59940b348",
   "metadata": {
    "tags": []
   },
   "outputs": [],
   "source": [
    "def remove_stopwords(tokens):\n",
    "    filtered_tokens = [token for token in tokens if token.lower() not in stop_words]\n",
    "    return filtered_tokens"
   ]
  },
  {
   "cell_type": "code",
   "execution_count": 29,
   "id": "320c8390-6308-4603-8ef5-697612484134",
   "metadata": {
    "tags": []
   },
   "outputs": [],
   "source": [
    "df['tokens'] = df['review'].apply(tokenize)"
   ]
  },
  {
   "cell_type": "code",
   "execution_count": 30,
   "id": "4a1358ad-a477-48ef-b510-0382dfb4b6c4",
   "metadata": {
    "tags": []
   },
   "outputs": [],
   "source": [
    "df['tokens_no_stopwords'] = df['tokens'].apply(remove_stopwords)"
   ]
  },
  {
   "cell_type": "code",
   "execution_count": 31,
   "id": "fa9599d2-b2f7-4c03-9de8-f025e779b1e3",
   "metadata": {
    "tags": []
   },
   "outputs": [],
   "source": [
    "df['processed_review'] = df['tokens_no_stopwords'].apply(lambda tokens: ' '.join(tokens))"
   ]
  },
  {
   "cell_type": "code",
   "execution_count": 32,
   "id": "dcab43d4-d47c-4b11-8735-b225bc90035a",
   "metadata": {
    "tags": []
   },
   "outputs": [
    {
     "name": "stdout",
     "output_type": "stream",
     "text": [
      "                                                  review  \\\n",
      "0      One of the other reviewers has mentioned that ...   \n",
      "1      A wonderful little production. <br /><br />The...   \n",
      "2      I thought this was a wonderful way to spend ti...   \n",
      "3      Basically there's a family where a little boy ...   \n",
      "4      Petter Mattei's \"Love in the Time of Money\" is...   \n",
      "...                                                  ...   \n",
      "49995  I thought this movie did a down right good job...   \n",
      "49996  Bad plot, bad dialogue, bad acting, idiotic di...   \n",
      "49997  I am a Catholic taught in parochial elementary...   \n",
      "49998  I'm going to have to disagree with the previou...   \n",
      "49999  No one expects the Star Trek movies to be high...   \n",
      "\n",
      "                                        processed_review  \n",
      "0      One reviewers mentioned watching 1 Oz episode ...  \n",
      "1      wonderful little production . < br / > < br / ...  \n",
      "2      thought wonderful way spend time hot summer we...  \n",
      "3      Basically 's family little boy ( Jake ) thinks...  \n",
      "4      Petter Mattei 's `` Love Time Money '' visuall...  \n",
      "...                                                  ...  \n",
      "49995  thought movie right good job . n't creative or...  \n",
      "49996  Bad plot , bad dialogue , bad acting , idiotic...  \n",
      "49997  Catholic taught parochial elementary schools n...  \n",
      "49998  'm going disagree previous comment side Maltin...  \n",
      "49999  one expects Star Trek movies high art , fans e...  \n",
      "\n",
      "[50000 rows x 2 columns]\n"
     ]
    }
   ],
   "source": [
    "print(df[['review', 'processed_review']])"
   ]
  },
  {
   "cell_type": "code",
   "execution_count": 33,
   "id": "f6107e02-358d-4b04-9050-51cf1c4b12f7",
   "metadata": {
    "tags": []
   },
   "outputs": [
    {
     "data": {
      "text/html": [
       "<div>\n",
       "<style scoped>\n",
       "    .dataframe tbody tr th:only-of-type {\n",
       "        vertical-align: middle;\n",
       "    }\n",
       "\n",
       "    .dataframe tbody tr th {\n",
       "        vertical-align: top;\n",
       "    }\n",
       "\n",
       "    .dataframe thead th {\n",
       "        text-align: right;\n",
       "    }\n",
       "</style>\n",
       "<table border=\"1\" class=\"dataframe\">\n",
       "  <thead>\n",
       "    <tr style=\"text-align: right;\">\n",
       "      <th></th>\n",
       "      <th>review</th>\n",
       "      <th>sentiment</th>\n",
       "      <th>tokens</th>\n",
       "      <th>tokens_no_stopwords</th>\n",
       "      <th>processed_review</th>\n",
       "    </tr>\n",
       "  </thead>\n",
       "  <tbody>\n",
       "    <tr>\n",
       "      <th>0</th>\n",
       "      <td>One of the other reviewers has mentioned that ...</td>\n",
       "      <td>1</td>\n",
       "      <td>[One, of, the, other, reviewers, has, mentione...</td>\n",
       "      <td>[One, reviewers, mentioned, watching, 1, Oz, e...</td>\n",
       "      <td>One reviewers mentioned watching 1 Oz episode ...</td>\n",
       "    </tr>\n",
       "    <tr>\n",
       "      <th>1</th>\n",
       "      <td>A wonderful little production. &lt;br /&gt;&lt;br /&gt;The...</td>\n",
       "      <td>1</td>\n",
       "      <td>[A, wonderful, little, production, ., &lt;, br, /...</td>\n",
       "      <td>[wonderful, little, production, ., &lt;, br, /, &gt;...</td>\n",
       "      <td>wonderful little production . &lt; br / &gt; &lt; br / ...</td>\n",
       "    </tr>\n",
       "    <tr>\n",
       "      <th>2</th>\n",
       "      <td>I thought this was a wonderful way to spend ti...</td>\n",
       "      <td>1</td>\n",
       "      <td>[I, thought, this, was, a, wonderful, way, to,...</td>\n",
       "      <td>[thought, wonderful, way, spend, time, hot, su...</td>\n",
       "      <td>thought wonderful way spend time hot summer we...</td>\n",
       "    </tr>\n",
       "    <tr>\n",
       "      <th>3</th>\n",
       "      <td>Basically there's a family where a little boy ...</td>\n",
       "      <td>0</td>\n",
       "      <td>[Basically, there, 's, a, family, where, a, li...</td>\n",
       "      <td>[Basically, 's, family, little, boy, (, Jake, ...</td>\n",
       "      <td>Basically 's family little boy ( Jake ) thinks...</td>\n",
       "    </tr>\n",
       "    <tr>\n",
       "      <th>4</th>\n",
       "      <td>Petter Mattei's \"Love in the Time of Money\" is...</td>\n",
       "      <td>1</td>\n",
       "      <td>[Petter, Mattei, 's, ``, Love, in, the, Time, ...</td>\n",
       "      <td>[Petter, Mattei, 's, ``, Love, Time, Money, ''...</td>\n",
       "      <td>Petter Mattei 's `` Love Time Money '' visuall...</td>\n",
       "    </tr>\n",
       "  </tbody>\n",
       "</table>\n",
       "</div>"
      ],
      "text/plain": [
       "                                              review  sentiment  \\\n",
       "0  One of the other reviewers has mentioned that ...          1   \n",
       "1  A wonderful little production. <br /><br />The...          1   \n",
       "2  I thought this was a wonderful way to spend ti...          1   \n",
       "3  Basically there's a family where a little boy ...          0   \n",
       "4  Petter Mattei's \"Love in the Time of Money\" is...          1   \n",
       "\n",
       "                                              tokens  \\\n",
       "0  [One, of, the, other, reviewers, has, mentione...   \n",
       "1  [A, wonderful, little, production, ., <, br, /...   \n",
       "2  [I, thought, this, was, a, wonderful, way, to,...   \n",
       "3  [Basically, there, 's, a, family, where, a, li...   \n",
       "4  [Petter, Mattei, 's, ``, Love, in, the, Time, ...   \n",
       "\n",
       "                                 tokens_no_stopwords  \\\n",
       "0  [One, reviewers, mentioned, watching, 1, Oz, e...   \n",
       "1  [wonderful, little, production, ., <, br, /, >...   \n",
       "2  [thought, wonderful, way, spend, time, hot, su...   \n",
       "3  [Basically, 's, family, little, boy, (, Jake, ...   \n",
       "4  [Petter, Mattei, 's, ``, Love, Time, Money, ''...   \n",
       "\n",
       "                                    processed_review  \n",
       "0  One reviewers mentioned watching 1 Oz episode ...  \n",
       "1  wonderful little production . < br / > < br / ...  \n",
       "2  thought wonderful way spend time hot summer we...  \n",
       "3  Basically 's family little boy ( Jake ) thinks...  \n",
       "4  Petter Mattei 's `` Love Time Money '' visuall...  "
      ]
     },
     "execution_count": 33,
     "metadata": {},
     "output_type": "execute_result"
    }
   ],
   "source": [
    "df.head()"
   ]
  },
  {
   "cell_type": "code",
   "execution_count": 34,
   "id": "fd593abc-5852-4dda-b9b7-e37d1a4884a9",
   "metadata": {
    "tags": []
   },
   "outputs": [],
   "source": [
    "from nltk.stem import PorterStemmer"
   ]
  },
  {
   "cell_type": "code",
   "execution_count": 35,
   "id": "5f7b2ffa-4eee-4a2f-b6ad-71bf13b3aaf7",
   "metadata": {
    "tags": []
   },
   "outputs": [],
   "source": [
    "porter = PorterStemmer()"
   ]
  },
  {
   "cell_type": "code",
   "execution_count": 36,
   "id": "9df1becd-f2eb-4be3-b7fc-7621d077da50",
   "metadata": {
    "tags": []
   },
   "outputs": [],
   "source": [
    "def apply_stemming(tokens):\n",
    "    stemmed_tokens = [porter.stem(token) for token in tokens]\n",
    "    return stemmed_tokens"
   ]
  },
  {
   "cell_type": "code",
   "execution_count": 37,
   "id": "85d9a9e4-c583-40ce-8cd1-8d0609a19ab8",
   "metadata": {
    "tags": []
   },
   "outputs": [],
   "source": [
    "df['stemmed_tokens'] = df['tokens_no_stopwords'].apply(apply_stemming)\n"
   ]
  },
  {
   "cell_type": "code",
   "execution_count": 38,
   "id": "97133850-de87-4363-b046-f8c97b2bff87",
   "metadata": {
    "tags": []
   },
   "outputs": [
    {
     "name": "stdout",
     "output_type": "stream",
     "text": [
      "                                                  review  \\\n",
      "0      One of the other reviewers has mentioned that ...   \n",
      "1      A wonderful little production. <br /><br />The...   \n",
      "2      I thought this was a wonderful way to spend ti...   \n",
      "3      Basically there's a family where a little boy ...   \n",
      "4      Petter Mattei's \"Love in the Time of Money\" is...   \n",
      "...                                                  ...   \n",
      "49995  I thought this movie did a down right good job...   \n",
      "49996  Bad plot, bad dialogue, bad acting, idiotic di...   \n",
      "49997  I am a Catholic taught in parochial elementary...   \n",
      "49998  I'm going to have to disagree with the previou...   \n",
      "49999  No one expects the Star Trek movies to be high...   \n",
      "\n",
      "                                        processed_review  \n",
      "0      One reviewers mentioned watching 1 Oz episode ...  \n",
      "1      wonderful little production . < br / > < br / ...  \n",
      "2      thought wonderful way spend time hot summer we...  \n",
      "3      Basically 's family little boy ( Jake ) thinks...  \n",
      "4      Petter Mattei 's `` Love Time Money '' visuall...  \n",
      "...                                                  ...  \n",
      "49995  thought movie right good job . n't creative or...  \n",
      "49996  Bad plot , bad dialogue , bad acting , idiotic...  \n",
      "49997  Catholic taught parochial elementary schools n...  \n",
      "49998  'm going disagree previous comment side Maltin...  \n",
      "49999  one expects Star Trek movies high art , fans e...  \n",
      "\n",
      "[50000 rows x 2 columns]\n"
     ]
    }
   ],
   "source": [
    "print(df[['review', 'processed_review']])"
   ]
  },
  {
   "cell_type": "code",
   "execution_count": 39,
   "id": "297f65c9-6ca6-4ac9-a880-a7ded637241f",
   "metadata": {
    "tags": []
   },
   "outputs": [
    {
     "data": {
      "text/html": [
       "<div>\n",
       "<style scoped>\n",
       "    .dataframe tbody tr th:only-of-type {\n",
       "        vertical-align: middle;\n",
       "    }\n",
       "\n",
       "    .dataframe tbody tr th {\n",
       "        vertical-align: top;\n",
       "    }\n",
       "\n",
       "    .dataframe thead th {\n",
       "        text-align: right;\n",
       "    }\n",
       "</style>\n",
       "<table border=\"1\" class=\"dataframe\">\n",
       "  <thead>\n",
       "    <tr style=\"text-align: right;\">\n",
       "      <th></th>\n",
       "      <th>review</th>\n",
       "      <th>sentiment</th>\n",
       "      <th>tokens</th>\n",
       "      <th>tokens_no_stopwords</th>\n",
       "      <th>processed_review</th>\n",
       "      <th>stemmed_tokens</th>\n",
       "    </tr>\n",
       "  </thead>\n",
       "  <tbody>\n",
       "    <tr>\n",
       "      <th>0</th>\n",
       "      <td>One of the other reviewers has mentioned that ...</td>\n",
       "      <td>1</td>\n",
       "      <td>[One, of, the, other, reviewers, has, mentione...</td>\n",
       "      <td>[One, reviewers, mentioned, watching, 1, Oz, e...</td>\n",
       "      <td>One reviewers mentioned watching 1 Oz episode ...</td>\n",
       "      <td>[one, review, mention, watch, 1, oz, episod, '...</td>\n",
       "    </tr>\n",
       "    <tr>\n",
       "      <th>1</th>\n",
       "      <td>A wonderful little production. &lt;br /&gt;&lt;br /&gt;The...</td>\n",
       "      <td>1</td>\n",
       "      <td>[A, wonderful, little, production, ., &lt;, br, /...</td>\n",
       "      <td>[wonderful, little, production, ., &lt;, br, /, &gt;...</td>\n",
       "      <td>wonderful little production . &lt; br / &gt; &lt; br / ...</td>\n",
       "      <td>[wonder, littl, product, ., &lt;, br, /, &gt;, &lt;, br...</td>\n",
       "    </tr>\n",
       "    <tr>\n",
       "      <th>2</th>\n",
       "      <td>I thought this was a wonderful way to spend ti...</td>\n",
       "      <td>1</td>\n",
       "      <td>[I, thought, this, was, a, wonderful, way, to,...</td>\n",
       "      <td>[thought, wonderful, way, spend, time, hot, su...</td>\n",
       "      <td>thought wonderful way spend time hot summer we...</td>\n",
       "      <td>[thought, wonder, way, spend, time, hot, summe...</td>\n",
       "    </tr>\n",
       "    <tr>\n",
       "      <th>3</th>\n",
       "      <td>Basically there's a family where a little boy ...</td>\n",
       "      <td>0</td>\n",
       "      <td>[Basically, there, 's, a, family, where, a, li...</td>\n",
       "      <td>[Basically, 's, family, little, boy, (, Jake, ...</td>\n",
       "      <td>Basically 's family little boy ( Jake ) thinks...</td>\n",
       "      <td>[basic, 's, famili, littl, boy, (, jake, ), th...</td>\n",
       "    </tr>\n",
       "    <tr>\n",
       "      <th>4</th>\n",
       "      <td>Petter Mattei's \"Love in the Time of Money\" is...</td>\n",
       "      <td>1</td>\n",
       "      <td>[Petter, Mattei, 's, ``, Love, in, the, Time, ...</td>\n",
       "      <td>[Petter, Mattei, 's, ``, Love, Time, Money, ''...</td>\n",
       "      <td>Petter Mattei 's `` Love Time Money '' visuall...</td>\n",
       "      <td>[petter, mattei, 's, ``, love, time, money, ''...</td>\n",
       "    </tr>\n",
       "  </tbody>\n",
       "</table>\n",
       "</div>"
      ],
      "text/plain": [
       "                                              review  sentiment  \\\n",
       "0  One of the other reviewers has mentioned that ...          1   \n",
       "1  A wonderful little production. <br /><br />The...          1   \n",
       "2  I thought this was a wonderful way to spend ti...          1   \n",
       "3  Basically there's a family where a little boy ...          0   \n",
       "4  Petter Mattei's \"Love in the Time of Money\" is...          1   \n",
       "\n",
       "                                              tokens  \\\n",
       "0  [One, of, the, other, reviewers, has, mentione...   \n",
       "1  [A, wonderful, little, production, ., <, br, /...   \n",
       "2  [I, thought, this, was, a, wonderful, way, to,...   \n",
       "3  [Basically, there, 's, a, family, where, a, li...   \n",
       "4  [Petter, Mattei, 's, ``, Love, in, the, Time, ...   \n",
       "\n",
       "                                 tokens_no_stopwords  \\\n",
       "0  [One, reviewers, mentioned, watching, 1, Oz, e...   \n",
       "1  [wonderful, little, production, ., <, br, /, >...   \n",
       "2  [thought, wonderful, way, spend, time, hot, su...   \n",
       "3  [Basically, 's, family, little, boy, (, Jake, ...   \n",
       "4  [Petter, Mattei, 's, ``, Love, Time, Money, ''...   \n",
       "\n",
       "                                    processed_review  \\\n",
       "0  One reviewers mentioned watching 1 Oz episode ...   \n",
       "1  wonderful little production . < br / > < br / ...   \n",
       "2  thought wonderful way spend time hot summer we...   \n",
       "3  Basically 's family little boy ( Jake ) thinks...   \n",
       "4  Petter Mattei 's `` Love Time Money '' visuall...   \n",
       "\n",
       "                                      stemmed_tokens  \n",
       "0  [one, review, mention, watch, 1, oz, episod, '...  \n",
       "1  [wonder, littl, product, ., <, br, /, >, <, br...  \n",
       "2  [thought, wonder, way, spend, time, hot, summe...  \n",
       "3  [basic, 's, famili, littl, boy, (, jake, ), th...  \n",
       "4  [petter, mattei, 's, ``, love, time, money, ''...  "
      ]
     },
     "execution_count": 39,
     "metadata": {},
     "output_type": "execute_result"
    }
   ],
   "source": [
    "df.head()"
   ]
  },
  {
   "cell_type": "code",
   "execution_count": 43,
   "id": "4c5384b2-1931-4a39-b6a6-68107e12cfb8",
   "metadata": {
    "tags": []
   },
   "outputs": [],
   "source": [
    "def rem_tags(text):\n",
    "    cleaned = re.sub(\"<.*?>\", \"\", text)\n",
    "    return cleaned"
   ]
  },
  {
   "cell_type": "code",
   "execution_count": 47,
   "id": "ac3c7a9b-4dbd-455d-8e53-487aff1c4421",
   "metadata": {
    "tags": []
   },
   "outputs": [],
   "source": [
    "df['cleaned_review'] = df['review'].apply(rem_tags)"
   ]
  },
  {
   "cell_type": "code",
   "execution_count": 48,
   "id": "c193bcdf-8044-498b-a41f-11dd6abc689e",
   "metadata": {
    "tags": []
   },
   "outputs": [
    {
     "name": "stdout",
     "output_type": "stream",
     "text": [
      "Original reviews:\n",
      "0        One of the other reviewers has mentioned that ...\n",
      "1        A wonderful little production. The filming tec...\n",
      "2        I thought this was a wonderful way to spend ti...\n",
      "3        Basically there's a family where a little boy ...\n",
      "4        Petter Mattei's \"Love in the Time of Money\" is...\n",
      "                               ...                        \n",
      "49995    I thought this movie did a down right good job...\n",
      "49996    Bad plot, bad dialogue, bad acting, idiotic di...\n",
      "49997    I am a Catholic taught in parochial elementary...\n",
      "49998    I'm going to have to disagree with the previou...\n",
      "49999    No one expects the Star Trek movies to be high...\n",
      "Name: review, Length: 50000, dtype: object\n"
     ]
    }
   ],
   "source": [
    "print(\"Original reviews:\")\n",
    "print(df['review'])"
   ]
  },
  {
   "cell_type": "code",
   "execution_count": 49,
   "id": "c03ef872-704f-4f15-86f3-df4f7594355c",
   "metadata": {
    "tags": []
   },
   "outputs": [
    {
     "name": "stdout",
     "output_type": "stream",
     "text": [
      "\n",
      "Reviews after removing HTML tags:\n",
      "0        One of the other reviewers has mentioned that ...\n",
      "1        A wonderful little production. The filming tec...\n",
      "2        I thought this was a wonderful way to spend ti...\n",
      "3        Basically there's a family where a little boy ...\n",
      "4        Petter Mattei's \"Love in the Time of Money\" is...\n",
      "                               ...                        \n",
      "49995    I thought this movie did a down right good job...\n",
      "49996    Bad plot, bad dialogue, bad acting, idiotic di...\n",
      "49997    I am a Catholic taught in parochial elementary...\n",
      "49998    I'm going to have to disagree with the previou...\n",
      "49999    No one expects the Star Trek movies to be high...\n",
      "Name: cleaned_review, Length: 50000, dtype: object\n"
     ]
    }
   ],
   "source": [
    "print(\"\\nReviews after removing HTML tags:\")\n",
    "print(df['cleaned_review'])"
   ]
  },
  {
   "cell_type": "code",
   "execution_count": 50,
   "id": "19c55376-2971-4879-8628-777c82d82cf8",
   "metadata": {
    "tags": []
   },
   "outputs": [
    {
     "data": {
      "text/html": [
       "<div>\n",
       "<style scoped>\n",
       "    .dataframe tbody tr th:only-of-type {\n",
       "        vertical-align: middle;\n",
       "    }\n",
       "\n",
       "    .dataframe tbody tr th {\n",
       "        vertical-align: top;\n",
       "    }\n",
       "\n",
       "    .dataframe thead th {\n",
       "        text-align: right;\n",
       "    }\n",
       "</style>\n",
       "<table border=\"1\" class=\"dataframe\">\n",
       "  <thead>\n",
       "    <tr style=\"text-align: right;\">\n",
       "      <th></th>\n",
       "      <th>review</th>\n",
       "      <th>sentiment</th>\n",
       "      <th>tokens</th>\n",
       "      <th>tokens_no_stopwords</th>\n",
       "      <th>processed_review</th>\n",
       "      <th>stemmed_tokens</th>\n",
       "      <th>cleaned_review</th>\n",
       "    </tr>\n",
       "  </thead>\n",
       "  <tbody>\n",
       "    <tr>\n",
       "      <th>0</th>\n",
       "      <td>One of the other reviewers has mentioned that ...</td>\n",
       "      <td>1</td>\n",
       "      <td>[One, of, the, other, reviewers, has, mentione...</td>\n",
       "      <td>[One, reviewers, mentioned, watching, 1, Oz, e...</td>\n",
       "      <td>One reviewers mentioned watching 1 Oz episode ...</td>\n",
       "      <td>[one, review, mention, watch, 1, oz, episod, '...</td>\n",
       "      <td>One of the other reviewers has mentioned that ...</td>\n",
       "    </tr>\n",
       "    <tr>\n",
       "      <th>1</th>\n",
       "      <td>A wonderful little production. The filming tec...</td>\n",
       "      <td>1</td>\n",
       "      <td>[A, wonderful, little, production, ., &lt;, br, /...</td>\n",
       "      <td>[wonderful, little, production, ., &lt;, br, /, &gt;...</td>\n",
       "      <td>wonderful little production . &lt; br / &gt; &lt; br / ...</td>\n",
       "      <td>[wonder, littl, product, ., &lt;, br, /, &gt;, &lt;, br...</td>\n",
       "      <td>A wonderful little production. The filming tec...</td>\n",
       "    </tr>\n",
       "    <tr>\n",
       "      <th>2</th>\n",
       "      <td>I thought this was a wonderful way to spend ti...</td>\n",
       "      <td>1</td>\n",
       "      <td>[I, thought, this, was, a, wonderful, way, to,...</td>\n",
       "      <td>[thought, wonderful, way, spend, time, hot, su...</td>\n",
       "      <td>thought wonderful way spend time hot summer we...</td>\n",
       "      <td>[thought, wonder, way, spend, time, hot, summe...</td>\n",
       "      <td>I thought this was a wonderful way to spend ti...</td>\n",
       "    </tr>\n",
       "    <tr>\n",
       "      <th>3</th>\n",
       "      <td>Basically there's a family where a little boy ...</td>\n",
       "      <td>0</td>\n",
       "      <td>[Basically, there, 's, a, family, where, a, li...</td>\n",
       "      <td>[Basically, 's, family, little, boy, (, Jake, ...</td>\n",
       "      <td>Basically 's family little boy ( Jake ) thinks...</td>\n",
       "      <td>[basic, 's, famili, littl, boy, (, jake, ), th...</td>\n",
       "      <td>Basically there's a family where a little boy ...</td>\n",
       "    </tr>\n",
       "    <tr>\n",
       "      <th>4</th>\n",
       "      <td>Petter Mattei's \"Love in the Time of Money\" is...</td>\n",
       "      <td>1</td>\n",
       "      <td>[Petter, Mattei, 's, ``, Love, in, the, Time, ...</td>\n",
       "      <td>[Petter, Mattei, 's, ``, Love, Time, Money, ''...</td>\n",
       "      <td>Petter Mattei 's `` Love Time Money '' visuall...</td>\n",
       "      <td>[petter, mattei, 's, ``, love, time, money, ''...</td>\n",
       "      <td>Petter Mattei's \"Love in the Time of Money\" is...</td>\n",
       "    </tr>\n",
       "  </tbody>\n",
       "</table>\n",
       "</div>"
      ],
      "text/plain": [
       "                                              review  sentiment  \\\n",
       "0  One of the other reviewers has mentioned that ...          1   \n",
       "1  A wonderful little production. The filming tec...          1   \n",
       "2  I thought this was a wonderful way to spend ti...          1   \n",
       "3  Basically there's a family where a little boy ...          0   \n",
       "4  Petter Mattei's \"Love in the Time of Money\" is...          1   \n",
       "\n",
       "                                              tokens  \\\n",
       "0  [One, of, the, other, reviewers, has, mentione...   \n",
       "1  [A, wonderful, little, production, ., <, br, /...   \n",
       "2  [I, thought, this, was, a, wonderful, way, to,...   \n",
       "3  [Basically, there, 's, a, family, where, a, li...   \n",
       "4  [Petter, Mattei, 's, ``, Love, in, the, Time, ...   \n",
       "\n",
       "                                 tokens_no_stopwords  \\\n",
       "0  [One, reviewers, mentioned, watching, 1, Oz, e...   \n",
       "1  [wonderful, little, production, ., <, br, /, >...   \n",
       "2  [thought, wonderful, way, spend, time, hot, su...   \n",
       "3  [Basically, 's, family, little, boy, (, Jake, ...   \n",
       "4  [Petter, Mattei, 's, ``, Love, Time, Money, ''...   \n",
       "\n",
       "                                    processed_review  \\\n",
       "0  One reviewers mentioned watching 1 Oz episode ...   \n",
       "1  wonderful little production . < br / > < br / ...   \n",
       "2  thought wonderful way spend time hot summer we...   \n",
       "3  Basically 's family little boy ( Jake ) thinks...   \n",
       "4  Petter Mattei 's `` Love Time Money '' visuall...   \n",
       "\n",
       "                                      stemmed_tokens  \\\n",
       "0  [one, review, mention, watch, 1, oz, episod, '...   \n",
       "1  [wonder, littl, product, ., <, br, /, >, <, br...   \n",
       "2  [thought, wonder, way, spend, time, hot, summe...   \n",
       "3  [basic, 's, famili, littl, boy, (, jake, ), th...   \n",
       "4  [petter, mattei, 's, ``, love, time, money, ''...   \n",
       "\n",
       "                                      cleaned_review  \n",
       "0  One of the other reviewers has mentioned that ...  \n",
       "1  A wonderful little production. The filming tec...  \n",
       "2  I thought this was a wonderful way to spend ti...  \n",
       "3  Basically there's a family where a little boy ...  \n",
       "4  Petter Mattei's \"Love in the Time of Money\" is...  "
      ]
     },
     "execution_count": 50,
     "metadata": {},
     "output_type": "execute_result"
    }
   ],
   "source": [
    "df.head()"
   ]
  },
  {
   "cell_type": "code",
   "execution_count": 52,
   "id": "c9f1050d-1bb6-4c2c-a86c-81677c75914f",
   "metadata": {
    "tags": []
   },
   "outputs": [],
   "source": [
    "exclude = string.punctuation"
   ]
  },
  {
   "cell_type": "code",
   "execution_count": 53,
   "id": "f97511c4-5051-489d-8f16-438066175154",
   "metadata": {
    "tags": []
   },
   "outputs": [],
   "source": [
    "def remove_punc(text):\n",
    "\treturn text.translate(str.maketrans('','', exclude))"
   ]
  },
  {
   "cell_type": "code",
   "execution_count": 54,
   "id": "49b2bf30-522c-4b34-a52c-e988efb09000",
   "metadata": {
    "tags": []
   },
   "outputs": [],
   "source": [
    "df['review'] = df['review'].apply(remove_punc)"
   ]
  },
  {
   "cell_type": "code",
   "execution_count": 55,
   "id": "18727378-ac35-4b65-914f-3579878650ab",
   "metadata": {
    "tags": []
   },
   "outputs": [
    {
     "data": {
      "text/plain": [
       "'Basically theres a family where a little boy Jake thinks theres a zombie in his closet  his parents are fighting all the timeThis movie is slower than a soap opera and suddenly Jake decides to become Rambo and kill the zombieOK first of all when youre going to make a film you must Decide if its a thriller or a drama As a drama the movie is watchable Parents are divorcing  arguing like in real life And then we have Jake with his closet which totally ruins all the film I expected to see a BOOGEYMAN similar movie and instead i watched a drama with some meaningless thriller spots3 out of 10 just for the well playing parents  descent dialogs As for the shots with Jake just ignore them'"
      ]
     },
     "execution_count": 55,
     "metadata": {},
     "output_type": "execute_result"
    }
   ],
   "source": [
    "df['review'][3]"
   ]
  },
  {
   "cell_type": "code",
   "execution_count": null,
   "id": "2b65201e-543d-4841-9c55-c8702f1cbd85",
   "metadata": {},
   "outputs": [],
   "source": []
  }
 ],
 "metadata": {
  "kernelspec": {
   "display_name": "Python 3 (ipykernel)",
   "language": "python",
   "name": "python3"
  },
  "language_info": {
   "codemirror_mode": {
    "name": "ipython",
    "version": 3
   },
   "file_extension": ".py",
   "mimetype": "text/x-python",
   "name": "python",
   "nbconvert_exporter": "python",
   "pygments_lexer": "ipython3",
   "version": "3.10.10"
  }
 },
 "nbformat": 4,
 "nbformat_minor": 5
}
